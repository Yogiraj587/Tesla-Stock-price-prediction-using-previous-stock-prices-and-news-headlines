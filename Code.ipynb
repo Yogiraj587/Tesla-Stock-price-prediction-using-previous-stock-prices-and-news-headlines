{
 "cells": [
  {
   "attachments": {},
   "cell_type": "markdown",
   "metadata": {},
   "source": [
    "### Predicting Tesla Stock price using News Headlines and previous years stock prices"
   ]
  },
  {
   "cell_type": "code",
   "execution_count": 1,
   "metadata": {},
   "outputs": [],
   "source": [
    "import numpy as np\n",
    "import pandas as pd\n",
    "import matplotlib.pyplot as plt\n",
    "import tensorflow as tf"
   ]
  },
  {
   "attachments": {},
   "cell_type": "markdown",
   "metadata": {},
   "source": [
    "### Stock Prices.csv"
   ]
  },
  {
   "cell_type": "code",
   "execution_count": 2,
   "metadata": {},
   "outputs": [
    {
     "data": {
      "text/html": [
       "<div>\n",
       "<style scoped>\n",
       "    .dataframe tbody tr th:only-of-type {\n",
       "        vertical-align: middle;\n",
       "    }\n",
       "\n",
       "    .dataframe tbody tr th {\n",
       "        vertical-align: top;\n",
       "    }\n",
       "\n",
       "    .dataframe thead th {\n",
       "        text-align: right;\n",
       "    }\n",
       "</style>\n",
       "<table border=\"1\" class=\"dataframe\">\n",
       "  <thead>\n",
       "    <tr style=\"text-align: right;\">\n",
       "      <th></th>\n",
       "      <th>Date</th>\n",
       "      <th>Open</th>\n",
       "      <th>High</th>\n",
       "      <th>Low</th>\n",
       "      <th>Close</th>\n",
       "      <th>Adj Close</th>\n",
       "      <th>Volume</th>\n",
       "    </tr>\n",
       "  </thead>\n",
       "  <tbody>\n",
       "    <tr>\n",
       "      <th>0</th>\n",
       "      <td>2022-01-06</td>\n",
       "      <td>359.000000</td>\n",
       "      <td>362.666656</td>\n",
       "      <td>340.166656</td>\n",
       "      <td>354.899994</td>\n",
       "      <td>354.899994</td>\n",
       "      <td>90336600</td>\n",
       "    </tr>\n",
       "    <tr>\n",
       "      <th>1</th>\n",
       "      <td>2022-01-07</td>\n",
       "      <td>360.123322</td>\n",
       "      <td>360.309998</td>\n",
       "      <td>336.666656</td>\n",
       "      <td>342.320007</td>\n",
       "      <td>342.320007</td>\n",
       "      <td>84164700</td>\n",
       "    </tr>\n",
       "    <tr>\n",
       "      <th>2</th>\n",
       "      <td>2022-01-10</td>\n",
       "      <td>333.333344</td>\n",
       "      <td>353.033325</td>\n",
       "      <td>326.666656</td>\n",
       "      <td>352.706665</td>\n",
       "      <td>352.706665</td>\n",
       "      <td>91815000</td>\n",
       "    </tr>\n",
       "    <tr>\n",
       "      <th>3</th>\n",
       "      <td>2022-01-11</td>\n",
       "      <td>351.223328</td>\n",
       "      <td>358.616669</td>\n",
       "      <td>346.273346</td>\n",
       "      <td>354.799988</td>\n",
       "      <td>354.799988</td>\n",
       "      <td>66063300</td>\n",
       "    </tr>\n",
       "    <tr>\n",
       "      <th>4</th>\n",
       "      <td>2022-01-12</td>\n",
       "      <td>359.616669</td>\n",
       "      <td>371.613342</td>\n",
       "      <td>357.529999</td>\n",
       "      <td>368.739990</td>\n",
       "      <td>368.739990</td>\n",
       "      <td>83739000</td>\n",
       "    </tr>\n",
       "  </tbody>\n",
       "</table>\n",
       "</div>"
      ],
      "text/plain": [
       "         Date        Open        High         Low       Close   Adj Close  \\\n",
       "0  2022-01-06  359.000000  362.666656  340.166656  354.899994  354.899994   \n",
       "1  2022-01-07  360.123322  360.309998  336.666656  342.320007  342.320007   \n",
       "2  2022-01-10  333.333344  353.033325  326.666656  352.706665  352.706665   \n",
       "3  2022-01-11  351.223328  358.616669  346.273346  354.799988  354.799988   \n",
       "4  2022-01-12  359.616669  371.613342  357.529999  368.739990  368.739990   \n",
       "\n",
       "     Volume  \n",
       "0  90336600  \n",
       "1  84164700  \n",
       "2  91815000  \n",
       "3  66063300  \n",
       "4  83739000  "
      ]
     },
     "execution_count": 2,
     "metadata": {},
     "output_type": "execute_result"
    }
   ],
   "source": [
    "df = pd.read_csv(\"TSLA.csv\")\n",
    "df.head()"
   ]
  },
  {
   "cell_type": "code",
   "execution_count": 3,
   "metadata": {},
   "outputs": [],
   "source": [
    "df[\"Date\"] = pd.to_datetime(df[\"Date\"])"
   ]
  },
  {
   "cell_type": "code",
   "execution_count": 4,
   "metadata": {},
   "outputs": [
    {
     "name": "stdout",
     "output_type": "stream",
     "text": [
      "<class 'pandas.core.frame.DataFrame'>\n",
      "RangeIndex: 251 entries, 0 to 250\n",
      "Data columns (total 7 columns):\n",
      " #   Column     Non-Null Count  Dtype         \n",
      "---  ------     --------------  -----         \n",
      " 0   Date       251 non-null    datetime64[ns]\n",
      " 1   Open       251 non-null    float64       \n",
      " 2   High       251 non-null    float64       \n",
      " 3   Low        251 non-null    float64       \n",
      " 4   Close      251 non-null    float64       \n",
      " 5   Adj Close  251 non-null    float64       \n",
      " 6   Volume     251 non-null    int64         \n",
      "dtypes: datetime64[ns](1), float64(5), int64(1)\n",
      "memory usage: 13.9 KB\n"
     ]
    }
   ],
   "source": [
    "df.info()"
   ]
  },
  {
   "cell_type": "code",
   "execution_count": 5,
   "metadata": {},
   "outputs": [
    {
     "data": {
      "text/html": [
       "<div>\n",
       "<style scoped>\n",
       "    .dataframe tbody tr th:only-of-type {\n",
       "        vertical-align: middle;\n",
       "    }\n",
       "\n",
       "    .dataframe tbody tr th {\n",
       "        vertical-align: top;\n",
       "    }\n",
       "\n",
       "    .dataframe thead th {\n",
       "        text-align: right;\n",
       "    }\n",
       "</style>\n",
       "<table border=\"1\" class=\"dataframe\">\n",
       "  <thead>\n",
       "    <tr style=\"text-align: right;\">\n",
       "      <th></th>\n",
       "      <th>Open</th>\n",
       "      <th>High</th>\n",
       "      <th>Low</th>\n",
       "      <th>Close</th>\n",
       "      <th>Adj Close</th>\n",
       "      <th>Volume</th>\n",
       "    </tr>\n",
       "  </thead>\n",
       "  <tbody>\n",
       "    <tr>\n",
       "      <th>count</th>\n",
       "      <td>251.000000</td>\n",
       "      <td>251.000000</td>\n",
       "      <td>251.000000</td>\n",
       "      <td>251.000000</td>\n",
       "      <td>251.000000</td>\n",
       "      <td>2.510000e+02</td>\n",
       "    </tr>\n",
       "    <tr>\n",
       "      <th>mean</th>\n",
       "      <td>260.855445</td>\n",
       "      <td>267.189243</td>\n",
       "      <td>253.343825</td>\n",
       "      <td>259.851049</td>\n",
       "      <td>259.851049</td>\n",
       "      <td>8.807081e+07</td>\n",
       "    </tr>\n",
       "    <tr>\n",
       "      <th>std</th>\n",
       "      <td>58.558736</td>\n",
       "      <td>59.631613</td>\n",
       "      <td>57.460356</td>\n",
       "      <td>58.638150</td>\n",
       "      <td>58.638150</td>\n",
       "      <td>3.170015e+07</td>\n",
       "    </tr>\n",
       "    <tr>\n",
       "      <th>min</th>\n",
       "      <td>109.110001</td>\n",
       "      <td>111.750000</td>\n",
       "      <td>104.639999</td>\n",
       "      <td>108.099998</td>\n",
       "      <td>108.099998</td>\n",
       "      <td>4.186470e+07</td>\n",
       "    </tr>\n",
       "    <tr>\n",
       "      <th>25%</th>\n",
       "      <td>223.548333</td>\n",
       "      <td>229.158333</td>\n",
       "      <td>216.800003</td>\n",
       "      <td>223.015007</td>\n",
       "      <td>223.015007</td>\n",
       "      <td>6.685095e+07</td>\n",
       "    </tr>\n",
       "    <tr>\n",
       "      <th>50%</th>\n",
       "      <td>271.829987</td>\n",
       "      <td>277.579987</td>\n",
       "      <td>262.470001</td>\n",
       "      <td>268.433319</td>\n",
       "      <td>268.433319</td>\n",
       "      <td>8.253750e+07</td>\n",
       "    </tr>\n",
       "    <tr>\n",
       "      <th>75%</th>\n",
       "      <td>301.294998</td>\n",
       "      <td>308.786667</td>\n",
       "      <td>293.614990</td>\n",
       "      <td>301.656662</td>\n",
       "      <td>301.656662</td>\n",
       "      <td>9.797160e+07</td>\n",
       "    </tr>\n",
       "    <tr>\n",
       "      <th>max</th>\n",
       "      <td>378.766663</td>\n",
       "      <td>384.290009</td>\n",
       "      <td>362.433319</td>\n",
       "      <td>381.816681</td>\n",
       "      <td>381.816681</td>\n",
       "      <td>2.314028e+08</td>\n",
       "    </tr>\n",
       "  </tbody>\n",
       "</table>\n",
       "</div>"
      ],
      "text/plain": [
       "             Open        High         Low       Close   Adj Close  \\\n",
       "count  251.000000  251.000000  251.000000  251.000000  251.000000   \n",
       "mean   260.855445  267.189243  253.343825  259.851049  259.851049   \n",
       "std     58.558736   59.631613   57.460356   58.638150   58.638150   \n",
       "min    109.110001  111.750000  104.639999  108.099998  108.099998   \n",
       "25%    223.548333  229.158333  216.800003  223.015007  223.015007   \n",
       "50%    271.829987  277.579987  262.470001  268.433319  268.433319   \n",
       "75%    301.294998  308.786667  293.614990  301.656662  301.656662   \n",
       "max    378.766663  384.290009  362.433319  381.816681  381.816681   \n",
       "\n",
       "             Volume  \n",
       "count  2.510000e+02  \n",
       "mean   8.807081e+07  \n",
       "std    3.170015e+07  \n",
       "min    4.186470e+07  \n",
       "25%    6.685095e+07  \n",
       "50%    8.253750e+07  \n",
       "75%    9.797160e+07  \n",
       "max    2.314028e+08  "
      ]
     },
     "execution_count": 5,
     "metadata": {},
     "output_type": "execute_result"
    }
   ],
   "source": [
    "df.describe()"
   ]
  },
  {
   "cell_type": "code",
   "execution_count": 6,
   "metadata": {},
   "outputs": [
    {
     "data": {
      "image/png": "[encoded data removed]",
      "text/plain": [
       "<Figure size 864x576 with 1 Axes>"
      ]
     },
     "metadata": {
      "needs_background": "light"
     },
     "output_type": "display_data"
    }
   ],
   "source": [
    "### Let us see dates vs closing price\n",
    "plt.figure(figsize=(12,8))\n",
    "plt.plot(df[\"Date\"],df[\"Close\"])\n",
    "plt.title(\"Tesla Stock Price Date vs Closing Price\",fontsize=15)\n",
    "plt.xlabel(\"Date\")\n",
    "plt.ylabel(\"Closing price\")\n",
    "plt.show()"
   ]
  },
  {
   "cell_type": "code",
   "execution_count": 7,
   "metadata": {},
   "outputs": [
    {
     "data": {
      "image/png": "[encoded data removed]",
      "text/plain": [
       "<Figure size 864x576 with 1 Axes>"
      ]
     },
     "metadata": {
      "needs_background": "light"
     },
     "output_type": "display_data"
    }
   ],
   "source": [
    "### Let us see dates vs closing price\n",
    "plt.figure(figsize=(12,8))\n",
    "plt.plot(df[\"Date\"],df[\"High\"])\n",
    "plt.title(\"Tesla Stock Price Date vs Highest Price\",fontsize=15)\n",
    "plt.xlabel(\"Date\")\n",
    "plt.ylabel(\"Highest price\")\n",
    "plt.show()"
   ]
  },
  {
   "cell_type": "code",
   "execution_count": 8,
   "metadata": {},
   "outputs": [
    {
     "data": {
      "text/plain": [
       "Date         0\n",
       "Open         0\n",
       "High         0\n",
       "Low          0\n",
       "Close        0\n",
       "Adj Close    0\n",
       "Volume       0\n",
       "dtype: int64"
      ]
     },
     "execution_count": 8,
     "metadata": {},
     "output_type": "execute_result"
    }
   ],
   "source": [
    "df.isnull().sum()"
   ]
  },
  {
   "cell_type": "code",
   "execution_count": 9,
   "metadata": {},
   "outputs": [
    {
     "data": {
      "image/png": "[encoded data removed]",
      "text/plain": [
       "<Figure size 432x288 with 1 Axes>"
      ]
     },
     "metadata": {
      "needs_background": "light"
     },
     "output_type": "display_data"
    },
    {
     "data": {
      "image/png": "[encoded data removed]",
      "text/plain": [
       "<Figure size 432x288 with 1 Axes>"
      ]
     },
     "metadata": {
      "needs_background": "light"
     },
     "output_type": "display_data"
    },
    {
     "data": {
      "image/png": "[encoded data removed]",
      "text/plain": [
       "<Figure size 432x288 with 1 Axes>"
      ]
     },
     "metadata": {
      "needs_background": "light"
     },
     "output_type": "display_data"
    },
    {
     "data": {
      "image/png": "[encoded data removed]",
      "text/plain": [
       "<Figure size 432x288 with 1 Axes>"
      ]
     },
     "metadata": {
      "needs_background": "light"
     },
     "output_type": "display_data"
    },
    {
     "data": {
      "image/png": "[encoded data removed]",
      "text/plain": [
       "<Figure size 432x288 with 1 Axes>"
      ]
     },
     "metadata": {
      "needs_background": "light"
     },
     "output_type": "display_data"
    },
    {
     "data": {
      "image/png": "[encoded data removed]",
      "text/plain": [
       "<Figure size 432x288 with 1 Axes>"
      ]
     },
     "metadata": {
      "needs_background": "light"
     },
     "output_type": "display_data"
    }
   ],
   "source": [
    "import seaborn as sns\n",
    "\n",
    "for feature in df.columns:\n",
    "    data = df.copy()\n",
    "    if feature!='Date':\n",
    "        sns.boxplot(x=df[feature])\n",
    "        plt.xlabel(feature)\n",
    "        plt.title(feature)\n",
    "        plt.show()"
   ]
  },
  {
   "attachments": {},
   "cell_type": "markdown",
   "metadata": {},
   "source": [
    "There are no much outliers. So, the dataset is almost clean and can be used for model building because: - \n",
    "\n",
    "1. No categorical values\n",
    "2. No missing values\n",
    "3. No outliers"
   ]
  },
  {
   "attachments": {},
   "cell_type": "markdown",
   "metadata": {},
   "source": [
    "### Importing the news dataset"
   ]
  },
  {
   "cell_type": "code",
   "execution_count": 10,
   "metadata": {},
   "outputs": [
    {
     "data": {
      "text/html": [
       "<div>\n",
       "<style scoped>\n",
       "    .dataframe tbody tr th:only-of-type {\n",
       "        vertical-align: middle;\n",
       "    }\n",
       "\n",
       "    .dataframe tbody tr th {\n",
       "        vertical-align: top;\n",
       "    }\n",
       "\n",
       "    .dataframe thead th {\n",
       "        text-align: right;\n",
       "    }\n",
       "</style>\n",
       "<table border=\"1\" class=\"dataframe\">\n",
       "  <thead>\n",
       "    <tr style=\"text-align: right;\">\n",
       "      <th></th>\n",
       "      <th>publish_date</th>\n",
       "      <th>headline_category</th>\n",
       "      <th>headline_text</th>\n",
       "    </tr>\n",
       "  </thead>\n",
       "  <tbody>\n",
       "    <tr>\n",
       "      <th>0</th>\n",
       "      <td>20010102</td>\n",
       "      <td>unknown</td>\n",
       "      <td>Status quo will not be disturbed at Ayodhya; s...</td>\n",
       "    </tr>\n",
       "    <tr>\n",
       "      <th>1</th>\n",
       "      <td>20010102</td>\n",
       "      <td>unknown</td>\n",
       "      <td>Fissures in Hurriyat over Pak visit</td>\n",
       "    </tr>\n",
       "    <tr>\n",
       "      <th>2</th>\n",
       "      <td>20010102</td>\n",
       "      <td>unknown</td>\n",
       "      <td>America's unwanted heading for India?</td>\n",
       "    </tr>\n",
       "    <tr>\n",
       "      <th>3</th>\n",
       "      <td>20010102</td>\n",
       "      <td>unknown</td>\n",
       "      <td>For bigwigs; it is destination Goa</td>\n",
       "    </tr>\n",
       "    <tr>\n",
       "      <th>4</th>\n",
       "      <td>20010102</td>\n",
       "      <td>unknown</td>\n",
       "      <td>Extra buses to clear tourist traffic</td>\n",
       "    </tr>\n",
       "  </tbody>\n",
       "</table>\n",
       "</div>"
      ],
      "text/plain": [
       "   publish_date headline_category  \\\n",
       "0      20010102           unknown   \n",
       "1      20010102           unknown   \n",
       "2      20010102           unknown   \n",
       "3      20010102           unknown   \n",
       "4      20010102           unknown   \n",
       "\n",
       "                                       headline_text  \n",
       "0  Status quo will not be disturbed at Ayodhya; s...  \n",
       "1                Fissures in Hurriyat over Pak visit  \n",
       "2              America's unwanted heading for India?  \n",
       "3                 For bigwigs; it is destination Goa  \n",
       "4               Extra buses to clear tourist traffic  "
      ]
     },
     "execution_count": 10,
     "metadata": {},
     "output_type": "execute_result"
    }
   ],
   "source": [
    "### Let us import the new headlines dataset\n",
    "\n",
    "df1 = pd.read_csv(\"india-news-headlines.csv\")\n",
    "df1.head()"
   ]
  },
  {
   "cell_type": "code",
   "execution_count": 11,
   "metadata": {},
   "outputs": [
    {
     "data": {
      "text/plain": [
       "(3650970, 3)"
      ]
     },
     "execution_count": 11,
     "metadata": {},
     "output_type": "execute_result"
    }
   ],
   "source": [
    "df1.shape"
   ]
  },
  {
   "cell_type": "code",
   "execution_count": 12,
   "metadata": {},
   "outputs": [
    {
     "data": {
      "text/html": [
       "<div>\n",
       "<style scoped>\n",
       "    .dataframe tbody tr th:only-of-type {\n",
       "        vertical-align: middle;\n",
       "    }\n",
       "\n",
       "    .dataframe tbody tr th {\n",
       "        vertical-align: top;\n",
       "    }\n",
       "\n",
       "    .dataframe thead th {\n",
       "        text-align: right;\n",
       "    }\n",
       "</style>\n",
       "<table border=\"1\" class=\"dataframe\">\n",
       "  <thead>\n",
       "    <tr style=\"text-align: right;\">\n",
       "      <th></th>\n",
       "      <th>index</th>\n",
       "      <th>publish_date</th>\n",
       "      <th>headline_category</th>\n",
       "      <th>headline_text</th>\n",
       "    </tr>\n",
       "  </thead>\n",
       "  <tbody>\n",
       "    <tr>\n",
       "      <th>0</th>\n",
       "      <td>0</td>\n",
       "      <td>20010102</td>\n",
       "      <td>unknown</td>\n",
       "      <td>Status quo will not be disturbed at Ayodhya; s...</td>\n",
       "    </tr>\n",
       "    <tr>\n",
       "      <th>1</th>\n",
       "      <td>86</td>\n",
       "      <td>20010103</td>\n",
       "      <td>unknown</td>\n",
       "      <td>Powerless north India gropes in the dark</td>\n",
       "    </tr>\n",
       "    <tr>\n",
       "      <th>2</th>\n",
       "      <td>127</td>\n",
       "      <td>20010104</td>\n",
       "      <td>unknown</td>\n",
       "      <td>The string that pulled Stephen Hawking to India</td>\n",
       "    </tr>\n",
       "    <tr>\n",
       "      <th>3</th>\n",
       "      <td>280</td>\n",
       "      <td>20010105</td>\n",
       "      <td>unknown</td>\n",
       "      <td>Light combat craft takes India into club class</td>\n",
       "    </tr>\n",
       "    <tr>\n",
       "      <th>4</th>\n",
       "      <td>406</td>\n",
       "      <td>20010106</td>\n",
       "      <td>unknown</td>\n",
       "      <td>Light combat craft takes India into club class</td>\n",
       "    </tr>\n",
       "    <tr>\n",
       "      <th>...</th>\n",
       "      <td>...</td>\n",
       "      <td>...</td>\n",
       "      <td>...</td>\n",
       "      <td>...</td>\n",
       "    </tr>\n",
       "    <tr>\n",
       "      <th>7712</th>\n",
       "      <td>3648472</td>\n",
       "      <td>20220327</td>\n",
       "      <td>entertainment.kannada.movies.news</td>\n",
       "      <td>Playing a dead man in Body God meant sitting i...</td>\n",
       "    </tr>\n",
       "    <tr>\n",
       "      <th>7713</th>\n",
       "      <td>3648972</td>\n",
       "      <td>20220328</td>\n",
       "      <td>life-style.spotlight</td>\n",
       "      <td>As fashion becomes democratic; demand for styl...</td>\n",
       "    </tr>\n",
       "    <tr>\n",
       "      <th>7714</th>\n",
       "      <td>3649472</td>\n",
       "      <td>20220329</td>\n",
       "      <td>entertainment.hindi.bollywood</td>\n",
       "      <td>Bobby Deol: Like my dad; I hope to be working ...</td>\n",
       "    </tr>\n",
       "    <tr>\n",
       "      <th>7715</th>\n",
       "      <td>3649972</td>\n",
       "      <td>20220330</td>\n",
       "      <td>entertainment.kannada.music</td>\n",
       "      <td>I will not give in to trends: Dossmode</td>\n",
       "    </tr>\n",
       "    <tr>\n",
       "      <th>7716</th>\n",
       "      <td>3650472</td>\n",
       "      <td>20220331</td>\n",
       "      <td>entertainment.kannada.movies.news</td>\n",
       "      <td>Shashank goes back to coastal Karnataka and Mo...</td>\n",
       "    </tr>\n",
       "  </tbody>\n",
       "</table>\n",
       "<p>7717 rows × 4 columns</p>\n",
       "</div>"
      ],
      "text/plain": [
       "        index  publish_date                  headline_category  \\\n",
       "0           0      20010102                            unknown   \n",
       "1          86      20010103                            unknown   \n",
       "2         127      20010104                            unknown   \n",
       "3         280      20010105                            unknown   \n",
       "4         406      20010106                            unknown   \n",
       "...       ...           ...                                ...   \n",
       "7712  3648472      20220327  entertainment.kannada.movies.news   \n",
       "7713  3648972      20220328               life-style.spotlight   \n",
       "7714  3649472      20220329      entertainment.hindi.bollywood   \n",
       "7715  3649972      20220330        entertainment.kannada.music   \n",
       "7716  3650472      20220331  entertainment.kannada.movies.news   \n",
       "\n",
       "                                          headline_text  \n",
       "0     Status quo will not be disturbed at Ayodhya; s...  \n",
       "1              Powerless north India gropes in the dark  \n",
       "2       The string that pulled Stephen Hawking to India  \n",
       "3        Light combat craft takes India into club class  \n",
       "4        Light combat craft takes India into club class  \n",
       "...                                                 ...  \n",
       "7712  Playing a dead man in Body God meant sitting i...  \n",
       "7713  As fashion becomes democratic; demand for styl...  \n",
       "7714  Bobby Deol: Like my dad; I hope to be working ...  \n",
       "7715             I will not give in to trends: Dossmode  \n",
       "7716  Shashank goes back to coastal Karnataka and Mo...  \n",
       "\n",
       "[7717 rows x 4 columns]"
      ]
     },
     "execution_count": 12,
     "metadata": {},
     "output_type": "execute_result"
    }
   ],
   "source": [
    "df1 = df1.drop_duplicates('publish_date', keep='first').sort_index()\n",
    "df1 = df1.reset_index()\n",
    "df1"
   ]
  },
  {
   "cell_type": "code",
   "execution_count": 13,
   "metadata": {},
   "outputs": [
    {
     "data": {
      "text/html": [
       "<div>\n",
       "<style scoped>\n",
       "    .dataframe tbody tr th:only-of-type {\n",
       "        vertical-align: middle;\n",
       "    }\n",
       "\n",
       "    .dataframe tbody tr th {\n",
       "        vertical-align: top;\n",
       "    }\n",
       "\n",
       "    .dataframe thead th {\n",
       "        text-align: right;\n",
       "    }\n",
       "</style>\n",
       "<table border=\"1\" class=\"dataframe\">\n",
       "  <thead>\n",
       "    <tr style=\"text-align: right;\">\n",
       "      <th></th>\n",
       "      <th>index</th>\n",
       "      <th>publish_date</th>\n",
       "      <th>headline_category</th>\n",
       "      <th>headline_text</th>\n",
       "    </tr>\n",
       "  </thead>\n",
       "  <tbody>\n",
       "    <tr>\n",
       "      <th>8</th>\n",
       "      <td>642</td>\n",
       "      <td>20010110</td>\n",
       "      <td>city.patna</td>\n",
       "      <td>Fend for yourselves; Pande tells doctors</td>\n",
       "    </tr>\n",
       "    <tr>\n",
       "      <th>48</th>\n",
       "      <td>2215</td>\n",
       "      <td>20010309</td>\n",
       "      <td>city.delhi</td>\n",
       "      <td>Maneka asks govt to take back land for cow she...</td>\n",
       "    </tr>\n",
       "    <tr>\n",
       "      <th>114</th>\n",
       "      <td>4563</td>\n",
       "      <td>20010522</td>\n",
       "      <td>city.pune</td>\n",
       "      <td>She turned and fought</td>\n",
       "    </tr>\n",
       "    <tr>\n",
       "      <th>116</th>\n",
       "      <td>4693</td>\n",
       "      <td>20010527</td>\n",
       "      <td>city.bengaluru</td>\n",
       "      <td>Need to boost exports; says bank head</td>\n",
       "    </tr>\n",
       "    <tr>\n",
       "      <th>118</th>\n",
       "      <td>4917</td>\n",
       "      <td>20010529</td>\n",
       "      <td>city.bengaluru</td>\n",
       "      <td>US visit won't be piece of cake for Krishna</td>\n",
       "    </tr>\n",
       "    <tr>\n",
       "      <th>...</th>\n",
       "      <td>...</td>\n",
       "      <td>...</td>\n",
       "      <td>...</td>\n",
       "      <td>...</td>\n",
       "    </tr>\n",
       "    <tr>\n",
       "      <th>7700</th>\n",
       "      <td>3642496</td>\n",
       "      <td>20220315</td>\n",
       "      <td>city.mumbai</td>\n",
       "      <td>Mumbaikars enjoy nightlife once more as restau...</td>\n",
       "    </tr>\n",
       "    <tr>\n",
       "      <th>7703</th>\n",
       "      <td>3643993</td>\n",
       "      <td>20220318</td>\n",
       "      <td>city.mumbai</td>\n",
       "      <td>Mumbai salons and spas deal with heavy demand ...</td>\n",
       "    </tr>\n",
       "    <tr>\n",
       "      <th>7707</th>\n",
       "      <td>3645983</td>\n",
       "      <td>20220322</td>\n",
       "      <td>city.patna</td>\n",
       "      <td>Sikta MLA pleads for police reform</td>\n",
       "    </tr>\n",
       "    <tr>\n",
       "      <th>7710</th>\n",
       "      <td>3647476</td>\n",
       "      <td>20220325</td>\n",
       "      <td>city.delhi</td>\n",
       "      <td>Speeding up; shortcuts and tackling unruly cus...</td>\n",
       "    </tr>\n",
       "    <tr>\n",
       "      <th>7711</th>\n",
       "      <td>3647974</td>\n",
       "      <td>20220326</td>\n",
       "      <td>city.mumbai</td>\n",
       "      <td>Mumbai celebrates World Theatre Day with speci...</td>\n",
       "    </tr>\n",
       "  </tbody>\n",
       "</table>\n",
       "<p>1417 rows × 4 columns</p>\n",
       "</div>"
      ],
      "text/plain": [
       "        index  publish_date headline_category  \\\n",
       "8         642      20010110        city.patna   \n",
       "48       2215      20010309        city.delhi   \n",
       "114      4563      20010522         city.pune   \n",
       "116      4693      20010527    city.bengaluru   \n",
       "118      4917      20010529    city.bengaluru   \n",
       "...       ...           ...               ...   \n",
       "7700  3642496      20220315       city.mumbai   \n",
       "7703  3643993      20220318       city.mumbai   \n",
       "7707  3645983      20220322        city.patna   \n",
       "7710  3647476      20220325        city.delhi   \n",
       "7711  3647974      20220326       city.mumbai   \n",
       "\n",
       "                                          headline_text  \n",
       "8              Fend for yourselves; Pande tells doctors  \n",
       "48    Maneka asks govt to take back land for cow she...  \n",
       "114                               She turned and fought  \n",
       "116               Need to boost exports; says bank head  \n",
       "118         US visit won't be piece of cake for Krishna  \n",
       "...                                                 ...  \n",
       "7700  Mumbaikars enjoy nightlife once more as restau...  \n",
       "7703  Mumbai salons and spas deal with heavy demand ...  \n",
       "7707                 Sikta MLA pleads for police reform  \n",
       "7710  Speeding up; shortcuts and tackling unruly cus...  \n",
       "7711  Mumbai celebrates World Theatre Day with speci...  \n",
       "\n",
       "[1417 rows x 4 columns]"
      ]
     },
     "execution_count": 13,
     "metadata": {},
     "output_type": "execute_result"
    }
   ],
   "source": [
    "city_df1 = df1[df1['headline_category'].str.contains('^city\\.[a-z]+$', regex=True)]\n",
    "city_df1"
   ]
  },
  {
   "cell_type": "code",
   "execution_count": 14,
   "metadata": {},
   "outputs": [
    {
     "data": {
      "text/html": [
       "<div>\n",
       "<style scoped>\n",
       "    .dataframe tbody tr th:only-of-type {\n",
       "        vertical-align: middle;\n",
       "    }\n",
       "\n",
       "    .dataframe tbody tr th {\n",
       "        vertical-align: top;\n",
       "    }\n",
       "\n",
       "    .dataframe thead th {\n",
       "        text-align: right;\n",
       "    }\n",
       "</style>\n",
       "<table border=\"1\" class=\"dataframe\">\n",
       "  <thead>\n",
       "    <tr style=\"text-align: right;\">\n",
       "      <th></th>\n",
       "      <th>publish_date</th>\n",
       "      <th>headline_text</th>\n",
       "      <th>City_Name</th>\n",
       "    </tr>\n",
       "  </thead>\n",
       "  <tbody>\n",
       "    <tr>\n",
       "      <th>0</th>\n",
       "      <td>20010110</td>\n",
       "      <td>Fend for yourselves; Pande tells doctors</td>\n",
       "      <td>patna</td>\n",
       "    </tr>\n",
       "    <tr>\n",
       "      <th>1</th>\n",
       "      <td>20010309</td>\n",
       "      <td>Maneka asks govt to take back land for cow she...</td>\n",
       "      <td>delhi</td>\n",
       "    </tr>\n",
       "    <tr>\n",
       "      <th>2</th>\n",
       "      <td>20010522</td>\n",
       "      <td>She turned and fought</td>\n",
       "      <td>pune</td>\n",
       "    </tr>\n",
       "    <tr>\n",
       "      <th>3</th>\n",
       "      <td>20010527</td>\n",
       "      <td>Need to boost exports; says bank head</td>\n",
       "      <td>bengaluru</td>\n",
       "    </tr>\n",
       "    <tr>\n",
       "      <th>4</th>\n",
       "      <td>20010529</td>\n",
       "      <td>US visit won't be piece of cake for Krishna</td>\n",
       "      <td>bengaluru</td>\n",
       "    </tr>\n",
       "    <tr>\n",
       "      <th>...</th>\n",
       "      <td>...</td>\n",
       "      <td>...</td>\n",
       "      <td>...</td>\n",
       "    </tr>\n",
       "    <tr>\n",
       "      <th>1412</th>\n",
       "      <td>20220315</td>\n",
       "      <td>Mumbaikars enjoy nightlife once more as restau...</td>\n",
       "      <td>mumbai</td>\n",
       "    </tr>\n",
       "    <tr>\n",
       "      <th>1413</th>\n",
       "      <td>20220318</td>\n",
       "      <td>Mumbai salons and spas deal with heavy demand ...</td>\n",
       "      <td>mumbai</td>\n",
       "    </tr>\n",
       "    <tr>\n",
       "      <th>1414</th>\n",
       "      <td>20220322</td>\n",
       "      <td>Sikta MLA pleads for police reform</td>\n",
       "      <td>patna</td>\n",
       "    </tr>\n",
       "    <tr>\n",
       "      <th>1415</th>\n",
       "      <td>20220325</td>\n",
       "      <td>Speeding up; shortcuts and tackling unruly cus...</td>\n",
       "      <td>delhi</td>\n",
       "    </tr>\n",
       "    <tr>\n",
       "      <th>1416</th>\n",
       "      <td>20220326</td>\n",
       "      <td>Mumbai celebrates World Theatre Day with speci...</td>\n",
       "      <td>mumbai</td>\n",
       "    </tr>\n",
       "  </tbody>\n",
       "</table>\n",
       "<p>1417 rows × 3 columns</p>\n",
       "</div>"
      ],
      "text/plain": [
       "      publish_date                                      headline_text  \\\n",
       "0         20010110           Fend for yourselves; Pande tells doctors   \n",
       "1         20010309  Maneka asks govt to take back land for cow she...   \n",
       "2         20010522                              She turned and fought   \n",
       "3         20010527              Need to boost exports; says bank head   \n",
       "4         20010529        US visit won't be piece of cake for Krishna   \n",
       "...            ...                                                ...   \n",
       "1412      20220315  Mumbaikars enjoy nightlife once more as restau...   \n",
       "1413      20220318  Mumbai salons and spas deal with heavy demand ...   \n",
       "1414      20220322                 Sikta MLA pleads for police reform   \n",
       "1415      20220325  Speeding up; shortcuts and tackling unruly cus...   \n",
       "1416      20220326  Mumbai celebrates World Theatre Day with speci...   \n",
       "\n",
       "      City_Name  \n",
       "0         patna  \n",
       "1         delhi  \n",
       "2          pune  \n",
       "3     bengaluru  \n",
       "4     bengaluru  \n",
       "...         ...  \n",
       "1412     mumbai  \n",
       "1413     mumbai  \n",
       "1414      patna  \n",
       "1415      delhi  \n",
       "1416     mumbai  \n",
       "\n",
       "[1417 rows x 3 columns]"
      ]
     },
     "execution_count": 14,
     "metadata": {},
     "output_type": "execute_result"
    }
   ],
   "source": [
    "city_split = pd.DataFrame(columns=['City_Name'])\n",
    "city_split['City_Name'] = city_df1.headline_category.str.split('.',expand=True)[1]\n",
    "city_df1 = pd.concat([city_df1,city_split],axis=1)\n",
    "city_df1.drop(columns=['headline_category'],axis=1,inplace=True)\n",
    "city_df1.reset_index(inplace=True)\n",
    "city_df1.drop(['level_0','index'],axis=1,inplace=True)\n",
    "city_df1"
   ]
  },
  {
   "attachments": {},
   "cell_type": "markdown",
   "metadata": {},
   "source": [
    "### Storing Closing Stock"
   ]
  },
  {
   "cell_type": "code",
   "execution_count": 15,
   "metadata": {},
   "outputs": [],
   "source": [
    "def new_dataset(df_prices2, look_back=1):\n",
    "    dataX, dataY = [], []\n",
    "    for i in range(len(df_prices2)-look_back):\n",
    "        a = df_prices2[i:(i+look_back), 0]\n",
    "        dataX.append(a)\n",
    "        dataY.append(df_prices2[i + look_back, 0])\n",
    "    return np.array(dataX), np.array(dataY)\n",
    "\n",
    "df2 = pd.read_csv('TSLA.csv', usecols=[5], engine='python')\n",
    "df2.dropna(inplace=True)\n",
    "df2 = df2.values\n",
    "df2 = df2.astype('float32')"
   ]
  },
  {
   "attachments": {},
   "cell_type": "markdown",
   "metadata": {},
   "source": [
    "### Data Normalisation"
   ]
  },
  {
   "cell_type": "code",
   "execution_count": 16,
   "metadata": {},
   "outputs": [],
   "source": [
    "from sklearn.preprocessing import MinMaxScaler\n",
    "scaler = MinMaxScaler(feature_range=(0,1))\n",
    "\n",
    "df2 = scaler.fit_transform(df2)\n",
    "\n",
    "train_size = int(len(df2) * 0.80)\n",
    "test_size = len(df2) - train_size\n",
    "train, test = df2[0:train_size,:], df2[train_size:len(df2),:]\n",
    "\n",
    "look_back = 2\n",
    "trainX, trainY = new_dataset(train, look_back)\n",
    "testX, testY = new_dataset(test, look_back)\n",
    "\n",
    "trainX = np.reshape(trainX, (trainX.shape[0], trainX.shape[1], 1))\n",
    "testX = np.reshape(testX, (testX.shape[0], testX.shape[1], 1))"
   ]
  },
  {
   "attachments": {},
   "cell_type": "markdown",
   "metadata": {},
   "source": [
    "### LSTM model"
   ]
  },
  {
   "cell_type": "code",
   "execution_count": 17,
   "metadata": {},
   "outputs": [],
   "source": [
    "from tensorflow.keras.layers import Dense,LSTM\n",
    "from tensorflow.keras.models import Sequential"
   ]
  },
  {
   "cell_type": "code",
   "execution_count": 18,
   "metadata": {},
   "outputs": [
    {
     "name": "stdout",
     "output_type": "stream",
     "text": [
      "Epoch 1/200\n",
      "7/7 [==============================] - 27s 8ms/step - loss: 0.4062\n",
      "Epoch 2/200\n",
      "7/7 [==============================] - 0s 8ms/step - loss: 0.3752\n",
      "Epoch 3/200\n",
      "7/7 [==============================] - 0s 7ms/step - loss: 0.3458\n",
      "Epoch 4/200\n",
      "7/7 [==============================] - 0s 8ms/step - loss: 0.3179\n",
      "Epoch 5/200\n",
      "7/7 [==============================] - 0s 6ms/step - loss: 0.2913\n",
      "Epoch 6/200\n",
      "7/7 [==============================] - 0s 7ms/step - loss: 0.2660\n",
      "Epoch 7/200\n",
      "7/7 [==============================] - 0s 7ms/step - loss: 0.2420\n",
      "Epoch 8/200\n",
      "7/7 [==============================] - 0s 6ms/step - loss: 0.2193\n",
      "Epoch 9/200\n",
      "7/7 [==============================] - 0s 6ms/step - loss: 0.1972\n",
      "Epoch 10/200\n",
      "7/7 [==============================] - 0s 6ms/step - loss: 0.1767\n",
      "Epoch 11/200\n",
      "7/7 [==============================] - 0s 6ms/step - loss: 0.1571\n",
      "Epoch 12/200\n",
      "7/7 [==============================] - 0s 5ms/step - loss: 0.1387\n",
      "Epoch 13/200\n",
      "7/7 [==============================] - 0s 5ms/step - loss: 0.1213\n",
      "Epoch 14/200\n",
      "7/7 [==============================] - 0s 6ms/step - loss: 0.1052\n",
      "Epoch 15/200\n",
      "7/7 [==============================] - 0s 6ms/step - loss: 0.0903\n",
      "Epoch 16/200\n",
      "7/7 [==============================] - 0s 6ms/step - loss: 0.0771\n",
      "Epoch 17/200\n",
      "7/7 [==============================] - 0s 8ms/step - loss: 0.0646\n",
      "Epoch 18/200\n",
      "7/7 [==============================] - 0s 7ms/step - loss: 0.0537\n",
      "Epoch 19/200\n",
      "7/7 [==============================] - 0s 6ms/step - loss: 0.0443\n",
      "Epoch 20/200\n",
      "7/7 [==============================] - 0s 7ms/step - loss: 0.0361\n",
      "Epoch 21/200\n",
      "7/7 [==============================] - 0s 8ms/step - loss: 0.0290\n",
      "Epoch 22/200\n",
      "7/7 [==============================] - 0s 7ms/step - loss: 0.0232\n",
      "Epoch 23/200\n",
      "7/7 [==============================] - 0s 7ms/step - loss: 0.0187\n",
      "Epoch 24/200\n",
      "7/7 [==============================] - 0s 6ms/step - loss: 0.0152\n",
      "Epoch 25/200\n",
      "7/7 [==============================] - 0s 8ms/step - loss: 0.0128\n",
      "Epoch 26/200\n",
      "7/7 [==============================] - 0s 7ms/step - loss: 0.0110\n",
      "Epoch 27/200\n",
      "7/7 [==============================] - 0s 7ms/step - loss: 0.0100\n",
      "Epoch 28/200\n",
      "7/7 [==============================] - 0s 10ms/step - loss: 0.0094\n",
      "Epoch 29/200\n",
      "7/7 [==============================] - 0s 7ms/step - loss: 0.0090\n",
      "Epoch 30/200\n",
      "7/7 [==============================] - 0s 8ms/step - loss: 0.0087\n",
      "Epoch 31/200\n",
      "7/7 [==============================] - 0s 9ms/step - loss: 0.0086\n",
      "Epoch 32/200\n",
      "7/7 [==============================] - 0s 8ms/step - loss: 0.0085\n",
      "Epoch 33/200\n",
      "7/7 [==============================] - 0s 8ms/step - loss: 0.0084\n",
      "Epoch 34/200\n",
      "7/7 [==============================] - 0s 7ms/step - loss: 0.0084\n",
      "Epoch 35/200\n",
      "7/7 [==============================] - 0s 7ms/step - loss: 0.0084\n",
      "Epoch 36/200\n",
      "7/7 [==============================] - 0s 7ms/step - loss: 0.0083\n",
      "Epoch 37/200\n",
      "7/7 [==============================] - 0s 7ms/step - loss: 0.0083\n",
      "Epoch 38/200\n",
      "7/7 [==============================] - 0s 7ms/step - loss: 0.0082\n",
      "Epoch 39/200\n",
      "7/7 [==============================] - 0s 7ms/step - loss: 0.0082\n",
      "Epoch 40/200\n",
      "7/7 [==============================] - 0s 8ms/step - loss: 0.0081\n",
      "Epoch 41/200\n",
      "7/7 [==============================] - 0s 10ms/step - loss: 0.0081\n",
      "Epoch 42/200\n",
      "7/7 [==============================] - 0s 9ms/step - loss: 0.0081\n",
      "Epoch 43/200\n",
      "7/7 [==============================] - 0s 9ms/step - loss: 0.0080\n",
      "Epoch 44/200\n",
      "7/7 [==============================] - 0s 5ms/step - loss: 0.0080\n",
      "Epoch 45/200\n",
      "7/7 [==============================] - 0s 7ms/step - loss: 0.0079\n",
      "Epoch 46/200\n",
      "7/7 [==============================] - 0s 5ms/step - loss: 0.0079\n",
      "Epoch 47/200\n",
      "7/7 [==============================] - 0s 7ms/step - loss: 0.0078\n",
      "Epoch 48/200\n",
      "7/7 [==============================] - 0s 6ms/step - loss: 0.0078\n",
      "Epoch 49/200\n",
      "7/7 [==============================] - 0s 9ms/step - loss: 0.0077\n",
      "Epoch 50/200\n",
      "7/7 [==============================] - 0s 8ms/step - loss: 0.0077\n",
      "Epoch 51/200\n",
      "7/7 [==============================] - 0s 8ms/step - loss: 0.0076\n",
      "Epoch 52/200\n",
      "7/7 [==============================] - 0s 8ms/step - loss: 0.0076\n",
      "Epoch 53/200\n",
      "7/7 [==============================] - 0s 5ms/step - loss: 0.0075\n",
      "Epoch 54/200\n",
      "7/7 [==============================] - 0s 6ms/step - loss: 0.0075\n",
      "Epoch 55/200\n",
      "7/7 [==============================] - 0s 9ms/step - loss: 0.0074\n",
      "Epoch 56/200\n",
      "7/7 [==============================] - 0s 8ms/step - loss: 0.0074\n",
      "Epoch 57/200\n",
      "7/7 [==============================] - 0s 7ms/step - loss: 0.0073\n",
      "Epoch 58/200\n",
      "7/7 [==============================] - 0s 7ms/step - loss: 0.0073\n",
      "Epoch 59/200\n",
      "7/7 [==============================] - 0s 7ms/step - loss: 0.0072\n",
      "Epoch 60/200\n",
      "7/7 [==============================] - 0s 7ms/step - loss: 0.0072\n",
      "Epoch 61/200\n",
      "7/7 [==============================] - 0s 5ms/step - loss: 0.0071\n",
      "Epoch 62/200\n",
      "7/7 [==============================] - 0s 6ms/step - loss: 0.0071\n",
      "Epoch 63/200\n",
      "7/7 [==============================] - 0s 5ms/step - loss: 0.0070\n",
      "Epoch 64/200\n",
      "7/7 [==============================] - 0s 7ms/step - loss: 0.0069\n",
      "Epoch 65/200\n",
      "7/7 [==============================] - 0s 6ms/step - loss: 0.0069\n",
      "Epoch 66/200\n",
      "7/7 [==============================] - 0s 5ms/step - loss: 0.0068\n",
      "Epoch 67/200\n",
      "7/7 [==============================] - 0s 5ms/step - loss: 0.0068\n",
      "Epoch 68/200\n",
      "7/7 [==============================] - 0s 6ms/step - loss: 0.0067\n",
      "Epoch 69/200\n",
      "7/7 [==============================] - 0s 5ms/step - loss: 0.0067\n",
      "Epoch 70/200\n",
      "7/7 [==============================] - 0s 5ms/step - loss: 0.0066\n",
      "Epoch 71/200\n",
      "7/7 [==============================] - 0s 6ms/step - loss: 0.0066\n",
      "Epoch 72/200\n",
      "7/7 [==============================] - 0s 5ms/step - loss: 0.0065\n",
      "Epoch 73/200\n",
      "7/7 [==============================] - 0s 6ms/step - loss: 0.0065\n",
      "Epoch 74/200\n",
      "7/7 [==============================] - 0s 6ms/step - loss: 0.0064\n",
      "Epoch 75/200\n",
      "7/7 [==============================] - 0s 5ms/step - loss: 0.0064\n",
      "Epoch 76/200\n",
      "7/7 [==============================] - 0s 5ms/step - loss: 0.0063\n",
      "Epoch 77/200\n",
      "7/7 [==============================] - 0s 5ms/step - loss: 0.0063\n",
      "Epoch 78/200\n",
      "7/7 [==============================] - 0s 6ms/step - loss: 0.0062\n",
      "Epoch 79/200\n",
      "7/7 [==============================] - 0s 5ms/step - loss: 0.0062\n",
      "Epoch 80/200\n",
      "7/7 [==============================] - 0s 5ms/step - loss: 0.0061\n",
      "Epoch 81/200\n",
      "7/7 [==============================] - 0s 6ms/step - loss: 0.0060\n",
      "Epoch 82/200\n",
      "7/7 [==============================] - 0s 5ms/step - loss: 0.0060\n",
      "Epoch 83/200\n",
      "7/7 [==============================] - 0s 5ms/step - loss: 0.0059\n",
      "Epoch 84/200\n",
      "7/7 [==============================] - 0s 5ms/step - loss: 0.0059\n",
      "Epoch 85/200\n",
      "7/7 [==============================] - 0s 6ms/step - loss: 0.0058\n",
      "Epoch 86/200\n",
      "7/7 [==============================] - 0s 5ms/step - loss: 0.0058\n",
      "Epoch 87/200\n",
      "7/7 [==============================] - 0s 6ms/step - loss: 0.0057\n",
      "Epoch 88/200\n",
      "7/7 [==============================] - 0s 6ms/step - loss: 0.0057\n",
      "Epoch 89/200\n",
      "7/7 [==============================] - 0s 6ms/step - loss: 0.0056\n",
      "Epoch 90/200\n",
      "7/7 [==============================] - 0s 6ms/step - loss: 0.0056\n",
      "Epoch 91/200\n",
      "7/7 [==============================] - 0s 5ms/step - loss: 0.0055\n",
      "Epoch 92/200\n",
      "7/7 [==============================] - 0s 5ms/step - loss: 0.0055\n",
      "Epoch 93/200\n",
      "7/7 [==============================] - 0s 5ms/step - loss: 0.0054\n",
      "Epoch 94/200\n",
      "7/7 [==============================] - 0s 5ms/step - loss: 0.0054\n",
      "Epoch 95/200\n",
      "7/7 [==============================] - 0s 6ms/step - loss: 0.0053\n",
      "Epoch 96/200\n",
      "7/7 [==============================] - 0s 5ms/step - loss: 0.0053\n",
      "Epoch 97/200\n",
      "7/7 [==============================] - 0s 6ms/step - loss: 0.0052\n",
      "Epoch 98/200\n",
      "7/7 [==============================] - 0s 5ms/step - loss: 0.0052\n",
      "Epoch 99/200\n",
      "7/7 [==============================] - 0s 5ms/step - loss: 0.0051\n",
      "Epoch 100/200\n",
      "7/7 [==============================] - 0s 5ms/step - loss: 0.0051\n",
      "Epoch 101/200\n",
      "7/7 [==============================] - 0s 5ms/step - loss: 0.0050\n",
      "Epoch 102/200\n",
      "7/7 [==============================] - 0s 5ms/step - loss: 0.0050\n",
      "Epoch 103/200\n",
      "7/7 [==============================] - 0s 7ms/step - loss: 0.0049\n",
      "Epoch 104/200\n",
      "7/7 [==============================] - 0s 6ms/step - loss: 0.0049\n",
      "Epoch 105/200\n",
      "7/7 [==============================] - 0s 6ms/step - loss: 0.0048\n",
      "Epoch 106/200\n",
      "7/7 [==============================] - 0s 6ms/step - loss: 0.0048\n",
      "Epoch 107/200\n",
      "7/7 [==============================] - 0s 5ms/step - loss: 0.0047\n",
      "Epoch 108/200\n",
      "7/7 [==============================] - 0s 5ms/step - loss: 0.0047\n",
      "Epoch 109/200\n",
      "7/7 [==============================] - 0s 5ms/step - loss: 0.0046\n",
      "Epoch 110/200\n",
      "7/7 [==============================] - 0s 5ms/step - loss: 0.0046\n",
      "Epoch 111/200\n",
      "7/7 [==============================] - 0s 6ms/step - loss: 0.0045\n",
      "Epoch 112/200\n",
      "7/7 [==============================] - 0s 5ms/step - loss: 0.0045\n",
      "Epoch 113/200\n",
      "7/7 [==============================] - 0s 5ms/step - loss: 0.0044\n",
      "Epoch 114/200\n",
      "7/7 [==============================] - 0s 6ms/step - loss: 0.0044\n",
      "Epoch 115/200\n",
      "7/7 [==============================] - 0s 6ms/step - loss: 0.0043\n",
      "Epoch 116/200\n",
      "7/7 [==============================] - 0s 6ms/step - loss: 0.0043\n",
      "Epoch 117/200\n",
      "7/7 [==============================] - 0s 5ms/step - loss: 0.0043\n",
      "Epoch 118/200\n",
      "7/7 [==============================] - 0s 5ms/step - loss: 0.0042\n",
      "Epoch 119/200\n",
      "7/7 [==============================] - 0s 5ms/step - loss: 0.0042\n",
      "Epoch 120/200\n",
      "7/7 [==============================] - 0s 5ms/step - loss: 0.0041\n",
      "Epoch 121/200\n",
      "7/7 [==============================] - 0s 5ms/step - loss: 0.0041\n",
      "Epoch 122/200\n",
      "7/7 [==============================] - 0s 5ms/step - loss: 0.0040\n",
      "Epoch 123/200\n",
      "7/7 [==============================] - 0s 5ms/step - loss: 0.0040\n",
      "Epoch 124/200\n",
      "7/7 [==============================] - 0s 5ms/step - loss: 0.0039\n",
      "Epoch 125/200\n",
      "7/7 [==============================] - 0s 5ms/step - loss: 0.0039\n",
      "Epoch 126/200\n",
      "7/7 [==============================] - 0s 5ms/step - loss: 0.0039\n",
      "Epoch 127/200\n",
      "7/7 [==============================] - 0s 6ms/step - loss: 0.0038\n",
      "Epoch 128/200\n",
      "7/7 [==============================] - 0s 5ms/step - loss: 0.0038\n",
      "Epoch 129/200\n",
      "7/7 [==============================] - 0s 6ms/step - loss: 0.0037\n",
      "Epoch 130/200\n",
      "7/7 [==============================] - 0s 5ms/step - loss: 0.0037\n",
      "Epoch 131/200\n",
      "7/7 [==============================] - 0s 5ms/step - loss: 0.0036\n",
      "Epoch 132/200\n",
      "7/7 [==============================] - 0s 5ms/step - loss: 0.0036\n",
      "Epoch 133/200\n",
      "7/7 [==============================] - 0s 5ms/step - loss: 0.0036\n",
      "Epoch 134/200\n",
      "7/7 [==============================] - 0s 6ms/step - loss: 0.0035\n",
      "Epoch 135/200\n",
      "7/7 [==============================] - 0s 7ms/step - loss: 0.0035\n",
      "Epoch 136/200\n",
      "7/7 [==============================] - 0s 6ms/step - loss: 0.0035\n",
      "Epoch 137/200\n",
      "7/7 [==============================] - 0s 5ms/step - loss: 0.0034\n",
      "Epoch 138/200\n",
      "7/7 [==============================] - 0s 6ms/step - loss: 0.0034\n",
      "Epoch 139/200\n",
      "7/7 [==============================] - 0s 4ms/step - loss: 0.0034\n",
      "Epoch 140/200\n",
      "7/7 [==============================] - 0s 7ms/step - loss: 0.0033\n",
      "Epoch 141/200\n",
      "7/7 [==============================] - 0s 7ms/step - loss: 0.0033\n",
      "Epoch 142/200\n",
      "7/7 [==============================] - 0s 5ms/step - loss: 0.0032\n",
      "Epoch 143/200\n",
      "7/7 [==============================] - 0s 5ms/step - loss: 0.0032\n",
      "Epoch 144/200\n",
      "7/7 [==============================] - 0s 5ms/step - loss: 0.0032\n",
      "Epoch 145/200\n",
      "7/7 [==============================] - 0s 5ms/step - loss: 0.0031\n",
      "Epoch 146/200\n",
      "7/7 [==============================] - 0s 5ms/step - loss: 0.0031\n",
      "Epoch 147/200\n",
      "7/7 [==============================] - 0s 5ms/step - loss: 0.0031\n",
      "Epoch 148/200\n",
      "7/7 [==============================] - 0s 12ms/step - loss: 0.0031\n",
      "Epoch 149/200\n",
      "7/7 [==============================] - 0s 6ms/step - loss: 0.0030\n",
      "Epoch 150/200\n",
      "7/7 [==============================] - 0s 6ms/step - loss: 0.0030\n",
      "Epoch 151/200\n",
      "7/7 [==============================] - 0s 6ms/step - loss: 0.0030\n",
      "Epoch 152/200\n",
      "7/7 [==============================] - 0s 5ms/step - loss: 0.0029\n",
      "Epoch 153/200\n",
      "7/7 [==============================] - 0s 5ms/step - loss: 0.0029\n",
      "Epoch 154/200\n",
      "7/7 [==============================] - 0s 6ms/step - loss: 0.0029\n",
      "Epoch 155/200\n",
      "7/7 [==============================] - 0s 5ms/step - loss: 0.0028\n",
      "Epoch 156/200\n",
      "7/7 [==============================] - 0s 5ms/step - loss: 0.0028\n",
      "Epoch 157/200\n",
      "7/7 [==============================] - 0s 5ms/step - loss: 0.0028\n",
      "Epoch 158/200\n",
      "7/7 [==============================] - 0s 5ms/step - loss: 0.0028\n",
      "Epoch 159/200\n",
      "7/7 [==============================] - 0s 5ms/step - loss: 0.0027\n",
      "Epoch 160/200\n",
      "7/7 [==============================] - 0s 5ms/step - loss: 0.0027\n",
      "Epoch 161/200\n",
      "7/7 [==============================] - 0s 6ms/step - loss: 0.0027\n",
      "Epoch 162/200\n",
      "7/7 [==============================] - 0s 5ms/step - loss: 0.0027\n",
      "Epoch 163/200\n",
      "7/7 [==============================] - 0s 5ms/step - loss: 0.0026\n",
      "Epoch 164/200\n",
      "7/7 [==============================] - 0s 5ms/step - loss: 0.0026\n",
      "Epoch 165/200\n",
      "7/7 [==============================] - 0s 5ms/step - loss: 0.0026\n",
      "Epoch 166/200\n",
      "7/7 [==============================] - 0s 5ms/step - loss: 0.0026\n",
      "Epoch 167/200\n",
      "7/7 [==============================] - 0s 6ms/step - loss: 0.0026\n",
      "Epoch 168/200\n",
      "7/7 [==============================] - 0s 5ms/step - loss: 0.0026\n",
      "Epoch 169/200\n",
      "7/7 [==============================] - 0s 5ms/step - loss: 0.0025\n",
      "Epoch 170/200\n",
      "7/7 [==============================] - 0s 5ms/step - loss: 0.0025\n",
      "Epoch 171/200\n",
      "7/7 [==============================] - 0s 5ms/step - loss: 0.0025\n",
      "Epoch 172/200\n",
      "7/7 [==============================] - 0s 5ms/step - loss: 0.0025\n",
      "Epoch 173/200\n",
      "7/7 [==============================] - 0s 6ms/step - loss: 0.0024\n",
      "Epoch 174/200\n",
      "7/7 [==============================] - 0s 5ms/step - loss: 0.0024\n",
      "Epoch 175/200\n",
      "7/7 [==============================] - 0s 5ms/step - loss: 0.0024\n",
      "Epoch 176/200\n",
      "7/7 [==============================] - 0s 6ms/step - loss: 0.0024\n",
      "Epoch 177/200\n",
      "7/7 [==============================] - 0s 5ms/step - loss: 0.0024\n",
      "Epoch 178/200\n",
      "7/7 [==============================] - 0s 7ms/step - loss: 0.0024\n",
      "Epoch 179/200\n",
      "7/7 [==============================] - 0s 5ms/step - loss: 0.0024\n",
      "Epoch 180/200\n",
      "7/7 [==============================] - 0s 5ms/step - loss: 0.0023\n",
      "Epoch 181/200\n",
      "7/7 [==============================] - 0s 6ms/step - loss: 0.0023\n",
      "Epoch 182/200\n",
      "7/7 [==============================] - 0s 5ms/step - loss: 0.0023\n",
      "Epoch 183/200\n",
      "7/7 [==============================] - 0s 5ms/step - loss: 0.0023\n",
      "Epoch 184/200\n",
      "7/7 [==============================] - 0s 6ms/step - loss: 0.0023\n",
      "Epoch 185/200\n",
      "7/7 [==============================] - 0s 5ms/step - loss: 0.0023\n",
      "Epoch 186/200\n",
      "7/7 [==============================] - 0s 5ms/step - loss: 0.0023\n",
      "Epoch 187/200\n",
      "7/7 [==============================] - 0s 5ms/step - loss: 0.0023\n",
      "Epoch 188/200\n",
      "7/7 [==============================] - 0s 5ms/step - loss: 0.0023\n",
      "Epoch 189/200\n",
      "7/7 [==============================] - 0s 6ms/step - loss: 0.0022\n",
      "Epoch 190/200\n",
      "7/7 [==============================] - 0s 6ms/step - loss: 0.0022\n",
      "Epoch 191/200\n",
      "7/7 [==============================] - 0s 5ms/step - loss: 0.0022\n",
      "Epoch 192/200\n",
      "7/7 [==============================] - 0s 5ms/step - loss: 0.0022\n",
      "Epoch 193/200\n",
      "7/7 [==============================] - 0s 6ms/step - loss: 0.0022\n",
      "Epoch 194/200\n",
      "7/7 [==============================] - 0s 6ms/step - loss: 0.0022\n",
      "Epoch 195/200\n",
      "7/7 [==============================] - 0s 6ms/step - loss: 0.0022\n",
      "Epoch 196/200\n",
      "7/7 [==============================] - 0s 5ms/step - loss: 0.0022\n",
      "Epoch 197/200\n",
      "7/7 [==============================] - 0s 5ms/step - loss: 0.0022\n",
      "Epoch 198/200\n",
      "7/7 [==============================] - 0s 5ms/step - loss: 0.0022\n",
      "Epoch 199/200\n",
      "7/7 [==============================] - 0s 6ms/step - loss: 0.0022\n",
      "Epoch 200/200\n",
      "7/7 [==============================] - 0s 5ms/step - loss: 0.0022\n"
     ]
    }
   ],
   "source": [
    "with tf.device(\"/device:GPU:0\"):\n",
    "    model = Sequential()\n",
    "    model.add(LSTM(7, input_shape=(look_back,1)))\n",
    "    model.add(Dense(1))\n",
    "    model.compile(loss='mean_squared_error', optimizer='adam')\n",
    "    model.fit(trainX, trainY, epochs=200, batch_size=32, verbose=1)"
   ]
  },
  {
   "cell_type": "code",
   "execution_count": 19,
   "metadata": {},
   "outputs": [
    {
     "name": "stdout",
     "output_type": "stream",
     "text": [
      "7/7 [==============================] - 0s 3ms/step\n",
      "2/2 [==============================] - 0s 4ms/step\n"
     ]
    }
   ],
   "source": [
    "trainPredict = model.predict(trainX)\n",
    "testPredict = model.predict(testX)\n",
    "\n",
    "trainPredict = scaler.inverse_transform(trainPredict)\n",
    "trainY = scaler.inverse_transform([trainY])\n",
    "testPredict = scaler.inverse_transform(testPredict)\n",
    "testY = scaler.inverse_transform([testY])"
   ]
  },
  {
   "cell_type": "code",
   "execution_count": 20,
   "metadata": {},
   "outputs": [],
   "source": [
    "trainPredictPlot = np.empty_like(df2)\n",
    "trainPredictPlot[:, :] = np.nan\n",
    "trainPredictPlot[look_back:len(trainPredict)+look_back, :] = trainPredict"
   ]
  },
  {
   "cell_type": "code",
   "execution_count": 21,
   "metadata": {},
   "outputs": [],
   "source": [
    "testPredictPlot = np.empty_like(df2)\n",
    "testPredictPlot[:, :] = np.nan\n",
    "testPredictPlot[len(trainPredict)+(look_back*2):len(df2), :] = testPredict"
   ]
  },
  {
   "cell_type": "code",
   "execution_count": 22,
   "metadata": {},
   "outputs": [
    {
     "data": {
      "image/png": "[encoded data removed]",
      "text/plain": [
       "<Figure size 1152x576 with 1 Axes>"
      ]
     },
     "metadata": {
      "needs_background": "light"
     },
     "output_type": "display_data"
    }
   ],
   "source": [
    "plt.figure(figsize=(16,8))\n",
    "plt.plot(scaler.inverse_transform(df2), label = 'Actual Data')\n",
    "plt.title('BSE Stock Price Prediction from last 5 years Data')\n",
    "plt.xlabel('Time')\n",
    "plt.ylabel('Actual Stock Price')\n",
    "plt.plot(trainPredictPlot,color='#DE3163', label = 'Train Predicted Data')\n",
    "plt.plot(testPredictPlot, color='#29c714', label = 'Test Predicted Data')\n",
    "plt.legend(loc='best')\n",
    "plt.show()"
   ]
  },
  {
   "cell_type": "code",
   "execution_count": 23,
   "metadata": {},
   "outputs": [],
   "source": [
    "import math\n",
    "from sklearn.metrics import mean_squared_error"
   ]
  },
  {
   "cell_type": "code",
   "execution_count": 24,
   "metadata": {},
   "outputs": [
    {
     "name": "stdout",
     "output_type": "stream",
     "text": [
      "Training  =  12.721115354388541  RMSE\n",
      "Testing =  23.48939662939555  RMSE\n"
     ]
    }
   ],
   "source": [
    "trainScore = math.sqrt(mean_squared_error(trainY[0], trainPredict[:,0]))\n",
    "print(\"Training  = \",trainScore,\" RMSE\")\n",
    "testScore = math.sqrt(mean_squared_error(testY[0], testPredict[:,0]))\n",
    "print(\"Testing = \",testScore,\" RMSE\")"
   ]
  },
  {
   "attachments": {},
   "cell_type": "markdown",
   "metadata": {},
   "source": [
    "### Textual Analysis"
   ]
  },
  {
   "cell_type": "code",
   "execution_count": 25,
   "metadata": {},
   "outputs": [
    {
     "data": {
      "text/html": [
       "<div>\n",
       "<style scoped>\n",
       "    .dataframe tbody tr th:only-of-type {\n",
       "        vertical-align: middle;\n",
       "    }\n",
       "\n",
       "    .dataframe tbody tr th {\n",
       "        vertical-align: top;\n",
       "    }\n",
       "\n",
       "    .dataframe thead th {\n",
       "        text-align: right;\n",
       "    }\n",
       "</style>\n",
       "<table border=\"1\" class=\"dataframe\">\n",
       "  <thead>\n",
       "    <tr style=\"text-align: right;\">\n",
       "      <th></th>\n",
       "      <th>Number_of_headline_text</th>\n",
       "    </tr>\n",
       "    <tr>\n",
       "      <th>City_Name</th>\n",
       "      <th></th>\n",
       "    </tr>\n",
       "  </thead>\n",
       "  <tbody>\n",
       "    <tr>\n",
       "      <th>bengaluru</th>\n",
       "      <td>113</td>\n",
       "    </tr>\n",
       "    <tr>\n",
       "      <th>mumbai</th>\n",
       "      <td>94</td>\n",
       "    </tr>\n",
       "    <tr>\n",
       "      <th>delhi</th>\n",
       "      <td>84</td>\n",
       "    </tr>\n",
       "    <tr>\n",
       "      <th>ahmedabad</th>\n",
       "      <td>83</td>\n",
       "    </tr>\n",
       "    <tr>\n",
       "      <th>pune</th>\n",
       "      <td>78</td>\n",
       "    </tr>\n",
       "    <tr>\n",
       "      <th>hyderabad</th>\n",
       "      <td>75</td>\n",
       "    </tr>\n",
       "    <tr>\n",
       "      <th>patna</th>\n",
       "      <td>73</td>\n",
       "    </tr>\n",
       "    <tr>\n",
       "      <th>chandigarh</th>\n",
       "      <td>59</td>\n",
       "    </tr>\n",
       "    <tr>\n",
       "      <th>goa</th>\n",
       "      <td>57</td>\n",
       "    </tr>\n",
       "    <tr>\n",
       "      <th>nagpur</th>\n",
       "      <td>55</td>\n",
       "    </tr>\n",
       "    <tr>\n",
       "      <th>kolkata</th>\n",
       "      <td>43</td>\n",
       "    </tr>\n",
       "    <tr>\n",
       "      <th>lucknow</th>\n",
       "      <td>43</td>\n",
       "    </tr>\n",
       "    <tr>\n",
       "      <th>thiruvananthapuram</th>\n",
       "      <td>42</td>\n",
       "    </tr>\n",
       "    <tr>\n",
       "      <th>madurai</th>\n",
       "      <td>35</td>\n",
       "    </tr>\n",
       "    <tr>\n",
       "      <th>trichy</th>\n",
       "      <td>33</td>\n",
       "    </tr>\n",
       "  </tbody>\n",
       "</table>\n",
       "</div>"
      ],
      "text/plain": [
       "                    Number_of_headline_text\n",
       "City_Name                                  \n",
       "bengaluru                               113\n",
       "mumbai                                   94\n",
       "delhi                                    84\n",
       "ahmedabad                                83\n",
       "pune                                     78\n",
       "hyderabad                                75\n",
       "patna                                    73\n",
       "chandigarh                               59\n",
       "goa                                      57\n",
       "nagpur                                   55\n",
       "kolkata                                  43\n",
       "lucknow                                  43\n",
       "thiruvananthapuram                       42\n",
       "madurai                                  35\n",
       "trichy                                   33"
      ]
     },
     "execution_count": 25,
     "metadata": {},
     "output_type": "execute_result"
    }
   ],
   "source": [
    "city_headline = city_df1.groupby(['City_Name']).agg({\"headline_text\":\"count\"})\n",
    "city_headline.rename(columns={\"headline_text\":\"Number_of_headline_text\"},inplace=True)\n",
    "city_headline = city_headline.sort_values(by='Number_of_headline_text',ascending=False)\n",
    "top_15_headline_city = city_headline.head(15)\n",
    "top_15_headline_city"
   ]
  },
  {
   "attachments": {},
   "cell_type": "markdown",
   "metadata": {},
   "source": [
    "### Top 15 cities which have high number of headline text"
   ]
  },
  {
   "cell_type": "code",
   "execution_count": 26,
   "metadata": {},
   "outputs": [
    {
     "data": {
      "image/png": "[encoded data removed]",
      "text/plain": [
       "<Figure size 1152x576 with 1 Axes>"
      ]
     },
     "metadata": {
      "needs_background": "light"
     },
     "output_type": "display_data"
    }
   ],
   "source": [
    "plt.figure(figsize=(16,8))\n",
    "plt.bar(top_15_headline_city.index,height=top_15_headline_city['Number_of_headline_text'])\n",
    "plt.xticks(rotation = 45)\n",
    "plt.xlabel('City Name',fontsize=18)\n",
    "plt.ylabel('Recorded Articles',fontsize=18)\n",
    "plt.title('Top 15 Highest Headline Text\\n',fontsize=24, fontweight='bold')\n",
    "plt.show()"
   ]
  },
  {
   "attachments": {},
   "cell_type": "markdown",
   "metadata": {},
   "source": [
    "### Sentiment Analysis of Headline Text"
   ]
  },
  {
   "cell_type": "code",
   "execution_count": 27,
   "metadata": {},
   "outputs": [],
   "source": [
    "from textblob import TextBlob\n",
    "from sklearn.discriminant_analysis import LinearDiscriminantAnalysis\n",
    "from vaderSentiment.vaderSentiment import SentimentIntensityAnalyzer"
   ]
  },
  {
   "cell_type": "code",
   "execution_count": 28,
   "metadata": {},
   "outputs": [],
   "source": [
    "def getAnalysis_polarity(headline):\n",
    "    result = TextBlob(headline)\n",
    "    if result.sentiment.polarity < 0:\n",
    "        return 'negative'\n",
    "    elif result.sentiment.polarity == 0:\n",
    "        return 'neutral'\n",
    "    else:\n",
    "        return 'positive'"
   ]
  },
  {
   "cell_type": "code",
   "execution_count": 29,
   "metadata": {},
   "outputs": [],
   "source": [
    "df1[\"Result\"] = np.array([getAnalysis_polarity(headline) for headline in df1['headline_text']])"
   ]
  },
  {
   "cell_type": "code",
   "execution_count": 30,
   "metadata": {},
   "outputs": [
    {
     "data": {
      "text/html": [
       "<div>\n",
       "<style scoped>\n",
       "    .dataframe tbody tr th:only-of-type {\n",
       "        vertical-align: middle;\n",
       "    }\n",
       "\n",
       "    .dataframe tbody tr th {\n",
       "        vertical-align: top;\n",
       "    }\n",
       "\n",
       "    .dataframe thead th {\n",
       "        text-align: right;\n",
       "    }\n",
       "</style>\n",
       "<table border=\"1\" class=\"dataframe\">\n",
       "  <thead>\n",
       "    <tr style=\"text-align: right;\">\n",
       "      <th></th>\n",
       "      <th>headline_text</th>\n",
       "    </tr>\n",
       "    <tr>\n",
       "      <th>Result</th>\n",
       "      <th></th>\n",
       "    </tr>\n",
       "  </thead>\n",
       "  <tbody>\n",
       "    <tr>\n",
       "      <th>negative</th>\n",
       "      <td>773</td>\n",
       "    </tr>\n",
       "    <tr>\n",
       "      <th>neutral</th>\n",
       "      <td>5113</td>\n",
       "    </tr>\n",
       "    <tr>\n",
       "      <th>positive</th>\n",
       "      <td>1831</td>\n",
       "    </tr>\n",
       "  </tbody>\n",
       "</table>\n",
       "</div>"
      ],
      "text/plain": [
       "          headline_text\n",
       "Result                 \n",
       "negative            773\n",
       "neutral            5113\n",
       "positive           1831"
      ]
     },
     "execution_count": 30,
     "metadata": {},
     "output_type": "execute_result"
    }
   ],
   "source": [
    "final_df1 = df1.groupby(['Result']).agg({'headline_text':'count'})\n",
    "final_df1"
   ]
  },
  {
   "cell_type": "code",
   "execution_count": 31,
   "metadata": {},
   "outputs": [],
   "source": [
    "negative = (final_df1.loc['negative']/len(df1))*100\n",
    "neutral = (final_df1.loc['neutral']/len(df1))*100\n",
    "positive = (final_df1.loc['positive']/len(df1))*100"
   ]
  },
  {
   "cell_type": "code",
   "execution_count": 32,
   "metadata": {},
   "outputs": [
    {
     "name": "stdout",
     "output_type": "stream",
     "text": [
      "Positive Headlines: -  headline_text    23.726837\n",
      "Name: positive, dtype: float64\n",
      "\n",
      "\n",
      "Negative Headlines: -  headline_text    10.016846\n",
      "Name: negative, dtype: float64\n",
      "\n",
      "\n",
      "UnbiasedHeadlines: -  headline_text    66.256317\n",
      "Name: neutral, dtype: float64\n"
     ]
    }
   ],
   "source": [
    "print(\"Positive Headlines: - \", positive)\n",
    "print(\"\\n\\nNegative Headlines: - \", negative)\n",
    "print(\"\\n\\nUnbiasedHeadlines: - \", str(neutral))"
   ]
  },
  {
   "attachments": {},
   "cell_type": "markdown",
   "metadata": {},
   "source": [
    "### Let us plot in pie chart"
   ]
  },
  {
   "cell_type": "code",
   "execution_count": 33,
   "metadata": {},
   "outputs": [
    {
     "data": {
      "image/png": "[encoded data removed]",
      "text/plain": [
       "<Figure size 864x576 with 1 Axes>"
      ]
     },
     "metadata": {},
     "output_type": "display_data"
    }
   ],
   "source": [
    "plt.figure(figsize=(12,8))\n",
    "final_df1['headline_text'].plot.pie(autopct='%1.1f%%')\n",
    "plt.title(\"Sentiment Distribution\", fontweight = \"bold\")\n",
    "plt.show()"
   ]
  },
  {
   "attachments": {},
   "cell_type": "markdown",
   "metadata": {},
   "source": [
    "### Hybrid Model"
   ]
  },
  {
   "cell_type": "code",
   "execution_count": 34,
   "metadata": {},
   "outputs": [],
   "source": [
    "df_news = pd.read_csv(\"india-news-headlines.csv\")\n",
    "df_news[\"Date\"] = pd.to_datetime(df_news[\"publish_date\"], format=\"%Y%m%d\")"
   ]
  },
  {
   "cell_type": "code",
   "execution_count": 35,
   "metadata": {},
   "outputs": [],
   "source": [
    "df_news = df_news.drop([\"publish_date\"],axis=1)"
   ]
  },
  {
   "cell_type": "code",
   "execution_count": 36,
   "metadata": {},
   "outputs": [],
   "source": [
    "df_prices = pd.read_csv(\"TSLA.csv\")\n",
    "df_prices[\"Date\"] = pd.to_datetime(df_prices.Date,format=\"%Y-%m-%d\")"
   ]
  },
  {
   "cell_type": "code",
   "execution_count": 37,
   "metadata": {},
   "outputs": [
    {
     "data": {
      "text/plain": [
       "Index(['Date', 'Open', 'High', 'Low', 'Close', 'Adj Close', 'Volume'], dtype='object')"
      ]
     },
     "execution_count": 37,
     "metadata": {},
     "output_type": "execute_result"
    }
   ],
   "source": [
    "df_prices.columns"
   ]
  },
  {
   "cell_type": "code",
   "execution_count": 38,
   "metadata": {},
   "outputs": [
    {
     "data": {
      "text/html": [
       "<div>\n",
       "<style scoped>\n",
       "    .dataframe tbody tr th:only-of-type {\n",
       "        vertical-align: middle;\n",
       "    }\n",
       "\n",
       "    .dataframe tbody tr th {\n",
       "        vertical-align: top;\n",
       "    }\n",
       "\n",
       "    .dataframe thead th {\n",
       "        text-align: right;\n",
       "    }\n",
       "</style>\n",
       "<table border=\"1\" class=\"dataframe\">\n",
       "  <thead>\n",
       "    <tr style=\"text-align: right;\">\n",
       "      <th></th>\n",
       "      <th>headline_category</th>\n",
       "      <th>headline_text</th>\n",
       "      <th>Date</th>\n",
       "      <th>Open</th>\n",
       "      <th>High</th>\n",
       "      <th>Low</th>\n",
       "      <th>Close</th>\n",
       "      <th>Adj Close</th>\n",
       "      <th>Volume</th>\n",
       "    </tr>\n",
       "  </thead>\n",
       "  <tbody>\n",
       "    <tr>\n",
       "      <th>0</th>\n",
       "      <td>astrology.horoscope</td>\n",
       "      <td>Horoscope Today; 6 January 2022: Check astrolo...</td>\n",
       "      <td>2022-01-06</td>\n",
       "      <td>359.000000</td>\n",
       "      <td>362.666656</td>\n",
       "      <td>340.166656</td>\n",
       "      <td>354.899994</td>\n",
       "      <td>354.899994</td>\n",
       "      <td>90336600</td>\n",
       "    </tr>\n",
       "    <tr>\n",
       "      <th>1</th>\n",
       "      <td>entertainment.kannada.movies.news</td>\n",
       "      <td>Dhanveerrah's next film to take off this month</td>\n",
       "      <td>2022-01-06</td>\n",
       "      <td>359.000000</td>\n",
       "      <td>362.666656</td>\n",
       "      <td>340.166656</td>\n",
       "      <td>354.899994</td>\n",
       "      <td>354.899994</td>\n",
       "      <td>90336600</td>\n",
       "    </tr>\n",
       "    <tr>\n",
       "      <th>2</th>\n",
       "      <td>entertainment.kannada.movies.news</td>\n",
       "      <td>Ek Love Ya release date pushed due to curfew; ...</td>\n",
       "      <td>2022-01-06</td>\n",
       "      <td>359.000000</td>\n",
       "      <td>362.666656</td>\n",
       "      <td>340.166656</td>\n",
       "      <td>354.899994</td>\n",
       "      <td>354.899994</td>\n",
       "      <td>90336600</td>\n",
       "    </tr>\n",
       "    <tr>\n",
       "      <th>3</th>\n",
       "      <td>entertainment.kannada.music</td>\n",
       "      <td>Vishwanath Haveri adds a touch of fusion to po...</td>\n",
       "      <td>2022-01-06</td>\n",
       "      <td>359.000000</td>\n",
       "      <td>362.666656</td>\n",
       "      <td>340.166656</td>\n",
       "      <td>354.899994</td>\n",
       "      <td>354.899994</td>\n",
       "      <td>90336600</td>\n",
       "    </tr>\n",
       "    <tr>\n",
       "      <th>4</th>\n",
       "      <td>tv.news.kannada</td>\n",
       "      <td>I love the unpredictable nature of the televis...</td>\n",
       "      <td>2022-01-06</td>\n",
       "      <td>359.000000</td>\n",
       "      <td>362.666656</td>\n",
       "      <td>340.166656</td>\n",
       "      <td>354.899994</td>\n",
       "      <td>354.899994</td>\n",
       "      <td>90336600</td>\n",
       "    </tr>\n",
       "    <tr>\n",
       "      <th>...</th>\n",
       "      <td>...</td>\n",
       "      <td>...</td>\n",
       "      <td>...</td>\n",
       "      <td>...</td>\n",
       "      <td>...</td>\n",
       "      <td>...</td>\n",
       "      <td>...</td>\n",
       "      <td>...</td>\n",
       "      <td>...</td>\n",
       "    </tr>\n",
       "    <tr>\n",
       "      <th>29427</th>\n",
       "      <td>city.srinagar</td>\n",
       "      <td>J&amp;K sacks 2 cops; 3 other employees over terro...</td>\n",
       "      <td>2022-03-31</td>\n",
       "      <td>364.856659</td>\n",
       "      <td>367.713318</td>\n",
       "      <td>358.880005</td>\n",
       "      <td>359.200012</td>\n",
       "      <td>359.200012</td>\n",
       "      <td>48992700</td>\n",
       "    </tr>\n",
       "    <tr>\n",
       "      <th>29428</th>\n",
       "      <td>entertainment.hindi.bollywood</td>\n",
       "      <td>Ranbir Kapoor says 'Rishi Kapoor enjoyed his a...</td>\n",
       "      <td>2022-03-31</td>\n",
       "      <td>364.856659</td>\n",
       "      <td>367.713318</td>\n",
       "      <td>358.880005</td>\n",
       "      <td>359.200012</td>\n",
       "      <td>359.200012</td>\n",
       "      <td>48992700</td>\n",
       "    </tr>\n",
       "    <tr>\n",
       "      <th>29429</th>\n",
       "      <td>city.trichy</td>\n",
       "      <td>As Covid-19 cases drop to nil in southern dist...</td>\n",
       "      <td>2022-03-31</td>\n",
       "      <td>364.856659</td>\n",
       "      <td>367.713318</td>\n",
       "      <td>358.880005</td>\n",
       "      <td>359.200012</td>\n",
       "      <td>359.200012</td>\n",
       "      <td>48992700</td>\n",
       "    </tr>\n",
       "    <tr>\n",
       "      <th>29430</th>\n",
       "      <td>city.erode</td>\n",
       "      <td>Tamil Nadu sees marginal rise of Covid cases w...</td>\n",
       "      <td>2022-03-31</td>\n",
       "      <td>364.856659</td>\n",
       "      <td>367.713318</td>\n",
       "      <td>358.880005</td>\n",
       "      <td>359.200012</td>\n",
       "      <td>359.200012</td>\n",
       "      <td>48992700</td>\n",
       "    </tr>\n",
       "    <tr>\n",
       "      <th>29431</th>\n",
       "      <td>city.salem</td>\n",
       "      <td>Tamil Nadu sees marginal rise of Covid cases w...</td>\n",
       "      <td>2022-03-31</td>\n",
       "      <td>364.856659</td>\n",
       "      <td>367.713318</td>\n",
       "      <td>358.880005</td>\n",
       "      <td>359.200012</td>\n",
       "      <td>359.200012</td>\n",
       "      <td>48992700</td>\n",
       "    </tr>\n",
       "  </tbody>\n",
       "</table>\n",
       "<p>29432 rows × 9 columns</p>\n",
       "</div>"
      ],
      "text/plain": [
       "                       headline_category  \\\n",
       "0                    astrology.horoscope   \n",
       "1      entertainment.kannada.movies.news   \n",
       "2      entertainment.kannada.movies.news   \n",
       "3            entertainment.kannada.music   \n",
       "4                        tv.news.kannada   \n",
       "...                                  ...   \n",
       "29427                      city.srinagar   \n",
       "29428      entertainment.hindi.bollywood   \n",
       "29429                        city.trichy   \n",
       "29430                         city.erode   \n",
       "29431                         city.salem   \n",
       "\n",
       "                                           headline_text       Date  \\\n",
       "0      Horoscope Today; 6 January 2022: Check astrolo... 2022-01-06   \n",
       "1         Dhanveerrah's next film to take off this month 2022-01-06   \n",
       "2      Ek Love Ya release date pushed due to curfew; ... 2022-01-06   \n",
       "3      Vishwanath Haveri adds a touch of fusion to po... 2022-01-06   \n",
       "4      I love the unpredictable nature of the televis... 2022-01-06   \n",
       "...                                                  ...        ...   \n",
       "29427  J&K sacks 2 cops; 3 other employees over terro... 2022-03-31   \n",
       "29428  Ranbir Kapoor says 'Rishi Kapoor enjoyed his a... 2022-03-31   \n",
       "29429  As Covid-19 cases drop to nil in southern dist... 2022-03-31   \n",
       "29430  Tamil Nadu sees marginal rise of Covid cases w... 2022-03-31   \n",
       "29431  Tamil Nadu sees marginal rise of Covid cases w... 2022-03-31   \n",
       "\n",
       "             Open        High         Low       Close   Adj Close    Volume  \n",
       "0      359.000000  362.666656  340.166656  354.899994  354.899994  90336600  \n",
       "1      359.000000  362.666656  340.166656  354.899994  354.899994  90336600  \n",
       "2      359.000000  362.666656  340.166656  354.899994  354.899994  90336600  \n",
       "3      359.000000  362.666656  340.166656  354.899994  354.899994  90336600  \n",
       "4      359.000000  362.666656  340.166656  354.899994  354.899994  90336600  \n",
       "...           ...         ...         ...         ...         ...       ...  \n",
       "29427  364.856659  367.713318  358.880005  359.200012  359.200012  48992700  \n",
       "29428  364.856659  367.713318  358.880005  359.200012  359.200012  48992700  \n",
       "29429  364.856659  367.713318  358.880005  359.200012  359.200012  48992700  \n",
       "29430  364.856659  367.713318  358.880005  359.200012  359.200012  48992700  \n",
       "29431  364.856659  367.713318  358.880005  359.200012  359.200012  48992700  \n",
       "\n",
       "[29432 rows x 9 columns]"
      ]
     },
     "execution_count": 38,
     "metadata": {},
     "output_type": "execute_result"
    }
   ],
   "source": [
    "### Let us create a hybrid model\n",
    "\n",
    "stocks_news_data = pd.merge(df_news,df_prices,how='inner',on=\"Date\")\n",
    "stocks_news_data"
   ]
  },
  {
   "cell_type": "code",
   "execution_count": 39,
   "metadata": {},
   "outputs": [],
   "source": [
    "def analysis_polarity(headline):\n",
    "    result = TextBlob(headline)\n",
    "    if result.sentiment.polarity < 0:\n",
    "        return 'negative'\n",
    "    elif result.sentiment.polarity == 0:\n",
    "        return 'neutral'\n",
    "    else:\n",
    "        return 'positive'"
   ]
  },
  {
   "cell_type": "code",
   "execution_count": 40,
   "metadata": {},
   "outputs": [],
   "source": [
    "stocks_news_data['sentiment'] = np.array([analysis_polarity(headline) for headline in stocks_news_data[\"headline_text\"]])"
   ]
  },
  {
   "cell_type": "code",
   "execution_count": 41,
   "metadata": {},
   "outputs": [
    {
     "data": {
      "text/html": [
       "<div>\n",
       "<style scoped>\n",
       "    .dataframe tbody tr th:only-of-type {\n",
       "        vertical-align: middle;\n",
       "    }\n",
       "\n",
       "    .dataframe tbody tr th {\n",
       "        vertical-align: top;\n",
       "    }\n",
       "\n",
       "    .dataframe thead th {\n",
       "        text-align: right;\n",
       "    }\n",
       "</style>\n",
       "<table border=\"1\" class=\"dataframe\">\n",
       "  <thead>\n",
       "    <tr style=\"text-align: right;\">\n",
       "      <th></th>\n",
       "      <th>headline_category</th>\n",
       "      <th>headline_text</th>\n",
       "      <th>Date</th>\n",
       "      <th>Open</th>\n",
       "      <th>High</th>\n",
       "      <th>Low</th>\n",
       "      <th>Close</th>\n",
       "      <th>Adj Close</th>\n",
       "      <th>Volume</th>\n",
       "      <th>sentiment</th>\n",
       "      <th>neutral</th>\n",
       "      <th>positive</th>\n",
       "    </tr>\n",
       "  </thead>\n",
       "  <tbody>\n",
       "    <tr>\n",
       "      <th>0</th>\n",
       "      <td>astrology.horoscope</td>\n",
       "      <td>Horoscope Today; 6 January 2022: Check astrolo...</td>\n",
       "      <td>2022-01-06</td>\n",
       "      <td>359.0</td>\n",
       "      <td>362.666656</td>\n",
       "      <td>340.166656</td>\n",
       "      <td>354.899994</td>\n",
       "      <td>354.899994</td>\n",
       "      <td>90336600</td>\n",
       "      <td>negative</td>\n",
       "      <td>0</td>\n",
       "      <td>0</td>\n",
       "    </tr>\n",
       "    <tr>\n",
       "      <th>1</th>\n",
       "      <td>entertainment.kannada.movies.news</td>\n",
       "      <td>Dhanveerrah's next film to take off this month</td>\n",
       "      <td>2022-01-06</td>\n",
       "      <td>359.0</td>\n",
       "      <td>362.666656</td>\n",
       "      <td>340.166656</td>\n",
       "      <td>354.899994</td>\n",
       "      <td>354.899994</td>\n",
       "      <td>90336600</td>\n",
       "      <td>neutral</td>\n",
       "      <td>1</td>\n",
       "      <td>0</td>\n",
       "    </tr>\n",
       "    <tr>\n",
       "      <th>2</th>\n",
       "      <td>entertainment.kannada.movies.news</td>\n",
       "      <td>Ek Love Ya release date pushed due to curfew; ...</td>\n",
       "      <td>2022-01-06</td>\n",
       "      <td>359.0</td>\n",
       "      <td>362.666656</td>\n",
       "      <td>340.166656</td>\n",
       "      <td>354.899994</td>\n",
       "      <td>354.899994</td>\n",
       "      <td>90336600</td>\n",
       "      <td>positive</td>\n",
       "      <td>0</td>\n",
       "      <td>1</td>\n",
       "    </tr>\n",
       "    <tr>\n",
       "      <th>3</th>\n",
       "      <td>entertainment.kannada.music</td>\n",
       "      <td>Vishwanath Haveri adds a touch of fusion to po...</td>\n",
       "      <td>2022-01-06</td>\n",
       "      <td>359.0</td>\n",
       "      <td>362.666656</td>\n",
       "      <td>340.166656</td>\n",
       "      <td>354.899994</td>\n",
       "      <td>354.899994</td>\n",
       "      <td>90336600</td>\n",
       "      <td>positive</td>\n",
       "      <td>0</td>\n",
       "      <td>1</td>\n",
       "    </tr>\n",
       "    <tr>\n",
       "      <th>4</th>\n",
       "      <td>tv.news.kannada</td>\n",
       "      <td>I love the unpredictable nature of the televis...</td>\n",
       "      <td>2022-01-06</td>\n",
       "      <td>359.0</td>\n",
       "      <td>362.666656</td>\n",
       "      <td>340.166656</td>\n",
       "      <td>354.899994</td>\n",
       "      <td>354.899994</td>\n",
       "      <td>90336600</td>\n",
       "      <td>positive</td>\n",
       "      <td>0</td>\n",
       "      <td>1</td>\n",
       "    </tr>\n",
       "  </tbody>\n",
       "</table>\n",
       "</div>"
      ],
      "text/plain": [
       "                   headline_category  \\\n",
       "0                astrology.horoscope   \n",
       "1  entertainment.kannada.movies.news   \n",
       "2  entertainment.kannada.movies.news   \n",
       "3        entertainment.kannada.music   \n",
       "4                    tv.news.kannada   \n",
       "\n",
       "                                       headline_text       Date   Open  \\\n",
       "0  Horoscope Today; 6 January 2022: Check astrolo... 2022-01-06  359.0   \n",
       "1     Dhanveerrah's next film to take off this month 2022-01-06  359.0   \n",
       "2  Ek Love Ya release date pushed due to curfew; ... 2022-01-06  359.0   \n",
       "3  Vishwanath Haveri adds a touch of fusion to po... 2022-01-06  359.0   \n",
       "4  I love the unpredictable nature of the televis... 2022-01-06  359.0   \n",
       "\n",
       "         High         Low       Close   Adj Close    Volume sentiment  \\\n",
       "0  362.666656  340.166656  354.899994  354.899994  90336600  negative   \n",
       "1  362.666656  340.166656  354.899994  354.899994  90336600   neutral   \n",
       "2  362.666656  340.166656  354.899994  354.899994  90336600  positive   \n",
       "3  362.666656  340.166656  354.899994  354.899994  90336600  positive   \n",
       "4  362.666656  340.166656  354.899994  354.899994  90336600  positive   \n",
       "\n",
       "   neutral  positive  \n",
       "0        0         0  \n",
       "1        1         0  \n",
       "2        0         1  \n",
       "3        0         1  \n",
       "4        0         1  "
      ]
     },
     "execution_count": 41,
     "metadata": {},
     "output_type": "execute_result"
    }
   ],
   "source": [
    "senti_data = pd.get_dummies(stocks_news_data['sentiment'],drop_first=True)\n",
    "stocks_news_data = pd.concat([stocks_news_data,senti_data],axis=1)\n",
    "stocks_news_data.head()"
   ]
  },
  {
   "attachments": {},
   "cell_type": "markdown",
   "metadata": {},
   "source": [
    "### Subjectivity and Polarity Scores"
   ]
  },
  {
   "cell_type": "code",
   "execution_count": 42,
   "metadata": {},
   "outputs": [],
   "source": [
    "def getSubjectivity(text):\n",
    "    return TextBlob(text).sentiment.subjectivity"
   ]
  },
  {
   "cell_type": "code",
   "execution_count": 43,
   "metadata": {},
   "outputs": [],
   "source": [
    "def getPolarity(text):\n",
    "    return TextBlob(text).sentiment.polarity"
   ]
  },
  {
   "cell_type": "code",
   "execution_count": 44,
   "metadata": {},
   "outputs": [
    {
     "data": {
      "text/html": [
       "<div>\n",
       "<style scoped>\n",
       "    .dataframe tbody tr th:only-of-type {\n",
       "        vertical-align: middle;\n",
       "    }\n",
       "\n",
       "    .dataframe tbody tr th {\n",
       "        vertical-align: top;\n",
       "    }\n",
       "\n",
       "    .dataframe thead th {\n",
       "        text-align: right;\n",
       "    }\n",
       "</style>\n",
       "<table border=\"1\" class=\"dataframe\">\n",
       "  <thead>\n",
       "    <tr style=\"text-align: right;\">\n",
       "      <th></th>\n",
       "      <th>headline_category</th>\n",
       "      <th>headline_text</th>\n",
       "      <th>Date</th>\n",
       "      <th>Open</th>\n",
       "      <th>High</th>\n",
       "      <th>Low</th>\n",
       "      <th>Close</th>\n",
       "      <th>Adj Close</th>\n",
       "      <th>Volume</th>\n",
       "      <th>sentiment</th>\n",
       "      <th>neutral</th>\n",
       "      <th>positive</th>\n",
       "      <th>Subjectivity</th>\n",
       "      <th>Polarity</th>\n",
       "    </tr>\n",
       "  </thead>\n",
       "  <tbody>\n",
       "    <tr>\n",
       "      <th>0</th>\n",
       "      <td>astrology.horoscope</td>\n",
       "      <td>Horoscope Today; 6 January 2022: Check astrolo...</td>\n",
       "      <td>2022-01-06</td>\n",
       "      <td>359.0</td>\n",
       "      <td>362.666656</td>\n",
       "      <td>340.166656</td>\n",
       "      <td>354.899994</td>\n",
       "      <td>354.899994</td>\n",
       "      <td>90336600</td>\n",
       "      <td>negative</td>\n",
       "      <td>0</td>\n",
       "      <td>0</td>\n",
       "      <td>0.3750</td>\n",
       "      <td>-0.125000</td>\n",
       "    </tr>\n",
       "    <tr>\n",
       "      <th>1</th>\n",
       "      <td>entertainment.kannada.movies.news</td>\n",
       "      <td>Dhanveerrah's next film to take off this month</td>\n",
       "      <td>2022-01-06</td>\n",
       "      <td>359.0</td>\n",
       "      <td>362.666656</td>\n",
       "      <td>340.166656</td>\n",
       "      <td>354.899994</td>\n",
       "      <td>354.899994</td>\n",
       "      <td>90336600</td>\n",
       "      <td>neutral</td>\n",
       "      <td>1</td>\n",
       "      <td>0</td>\n",
       "      <td>0.0000</td>\n",
       "      <td>0.000000</td>\n",
       "    </tr>\n",
       "    <tr>\n",
       "      <th>2</th>\n",
       "      <td>entertainment.kannada.movies.news</td>\n",
       "      <td>Ek Love Ya release date pushed due to curfew; ...</td>\n",
       "      <td>2022-01-06</td>\n",
       "      <td>359.0</td>\n",
       "      <td>362.666656</td>\n",
       "      <td>340.166656</td>\n",
       "      <td>354.899994</td>\n",
       "      <td>354.899994</td>\n",
       "      <td>90336600</td>\n",
       "      <td>positive</td>\n",
       "      <td>0</td>\n",
       "      <td>1</td>\n",
       "      <td>0.4875</td>\n",
       "      <td>0.187500</td>\n",
       "    </tr>\n",
       "    <tr>\n",
       "      <th>3</th>\n",
       "      <td>entertainment.kannada.music</td>\n",
       "      <td>Vishwanath Haveri adds a touch of fusion to po...</td>\n",
       "      <td>2022-01-06</td>\n",
       "      <td>359.0</td>\n",
       "      <td>362.666656</td>\n",
       "      <td>340.166656</td>\n",
       "      <td>354.899994</td>\n",
       "      <td>354.899994</td>\n",
       "      <td>90336600</td>\n",
       "      <td>positive</td>\n",
       "      <td>0</td>\n",
       "      <td>1</td>\n",
       "      <td>0.5500</td>\n",
       "      <td>0.350000</td>\n",
       "    </tr>\n",
       "    <tr>\n",
       "      <th>4</th>\n",
       "      <td>tv.news.kannada</td>\n",
       "      <td>I love the unpredictable nature of the televis...</td>\n",
       "      <td>2022-01-06</td>\n",
       "      <td>359.0</td>\n",
       "      <td>362.666656</td>\n",
       "      <td>340.166656</td>\n",
       "      <td>354.899994</td>\n",
       "      <td>354.899994</td>\n",
       "      <td>90336600</td>\n",
       "      <td>positive</td>\n",
       "      <td>0</td>\n",
       "      <td>1</td>\n",
       "      <td>0.8000</td>\n",
       "      <td>0.166667</td>\n",
       "    </tr>\n",
       "  </tbody>\n",
       "</table>\n",
       "</div>"
      ],
      "text/plain": [
       "                   headline_category  \\\n",
       "0                astrology.horoscope   \n",
       "1  entertainment.kannada.movies.news   \n",
       "2  entertainment.kannada.movies.news   \n",
       "3        entertainment.kannada.music   \n",
       "4                    tv.news.kannada   \n",
       "\n",
       "                                       headline_text       Date   Open  \\\n",
       "0  Horoscope Today; 6 January 2022: Check astrolo... 2022-01-06  359.0   \n",
       "1     Dhanveerrah's next film to take off this month 2022-01-06  359.0   \n",
       "2  Ek Love Ya release date pushed due to curfew; ... 2022-01-06  359.0   \n",
       "3  Vishwanath Haveri adds a touch of fusion to po... 2022-01-06  359.0   \n",
       "4  I love the unpredictable nature of the televis... 2022-01-06  359.0   \n",
       "\n",
       "         High         Low       Close   Adj Close    Volume sentiment  \\\n",
       "0  362.666656  340.166656  354.899994  354.899994  90336600  negative   \n",
       "1  362.666656  340.166656  354.899994  354.899994  90336600   neutral   \n",
       "2  362.666656  340.166656  354.899994  354.899994  90336600  positive   \n",
       "3  362.666656  340.166656  354.899994  354.899994  90336600  positive   \n",
       "4  362.666656  340.166656  354.899994  354.899994  90336600  positive   \n",
       "\n",
       "   neutral  positive  Subjectivity  Polarity  \n",
       "0        0         0        0.3750 -0.125000  \n",
       "1        1         0        0.0000  0.000000  \n",
       "2        0         1        0.4875  0.187500  \n",
       "3        0         1        0.5500  0.350000  \n",
       "4        0         1        0.8000  0.166667  "
      ]
     },
     "execution_count": 44,
     "metadata": {},
     "output_type": "execute_result"
    }
   ],
   "source": [
    "stocks_news_data['Subjectivity'] =stocks_news_data['headline_text'].apply(getSubjectivity)\n",
    "stocks_news_data['Polarity'] = stocks_news_data['headline_text'].apply(getPolarity)\n",
    "stocks_news_data.head()"
   ]
  },
  {
   "attachments": {},
   "cell_type": "markdown",
   "metadata": {},
   "source": [
    "### Plotting the Scores"
   ]
  },
  {
   "cell_type": "code",
   "execution_count": 45,
   "metadata": {},
   "outputs": [
    {
     "data": {
      "image/png": "[encoded data removed]",
      "text/plain": [
       "<Figure size 1440x576 with 1 Axes>"
      ]
     },
     "metadata": {
      "needs_background": "light"
     },
     "output_type": "display_data"
    }
   ],
   "source": [
    "plt.figure(figsize=(20,8))\n",
    "plt.title(\"News Polarity\")\n",
    "stocks_news_data['Polarity'].hist(color='#2BF6F9')\n",
    "plt.show()"
   ]
  },
  {
   "cell_type": "code",
   "execution_count": 46,
   "metadata": {},
   "outputs": [
    {
     "data": {
      "image/png": "[encoded data removed]",
      "text/plain": [
       "<Figure size 1440x576 with 1 Axes>"
      ]
     },
     "metadata": {
      "needs_background": "light"
     },
     "output_type": "display_data"
    }
   ],
   "source": [
    "plt.figure(figsize = (20,8))\n",
    "plt.title('News Subjectivity')\n",
    "stocks_news_data['Subjectivity'].hist(color = '#F92BD1')\n",
    "plt.show()"
   ]
  },
  {
   "attachments": {},
   "cell_type": "markdown",
   "metadata": {},
   "source": [
    "### Performing Sentiment Analysis"
   ]
  },
  {
   "cell_type": "code",
   "execution_count": 47,
   "metadata": {},
   "outputs": [
    {
     "data": {
      "text/html": [
       "<div>\n",
       "<style scoped>\n",
       "    .dataframe tbody tr th:only-of-type {\n",
       "        vertical-align: middle;\n",
       "    }\n",
       "\n",
       "    .dataframe tbody tr th {\n",
       "        vertical-align: top;\n",
       "    }\n",
       "\n",
       "    .dataframe thead th {\n",
       "        text-align: right;\n",
       "    }\n",
       "</style>\n",
       "<table border=\"1\" class=\"dataframe\">\n",
       "  <thead>\n",
       "    <tr style=\"text-align: right;\">\n",
       "      <th></th>\n",
       "      <th>headline_category</th>\n",
       "      <th>headline_text</th>\n",
       "      <th>Date</th>\n",
       "      <th>Open</th>\n",
       "      <th>High</th>\n",
       "      <th>Low</th>\n",
       "      <th>Close</th>\n",
       "      <th>Adj Close</th>\n",
       "      <th>Volume</th>\n",
       "      <th>sentiment</th>\n",
       "      <th>neutral</th>\n",
       "      <th>positive</th>\n",
       "      <th>Subjectivity</th>\n",
       "      <th>Polarity</th>\n",
       "      <th>Compound</th>\n",
       "      <th>Negative</th>\n",
       "      <th>Neutral</th>\n",
       "      <th>Positive</th>\n",
       "    </tr>\n",
       "  </thead>\n",
       "  <tbody>\n",
       "    <tr>\n",
       "      <th>0</th>\n",
       "      <td>astrology.horoscope</td>\n",
       "      <td>Horoscope Today; 6 January 2022: Check astrolo...</td>\n",
       "      <td>2022-01-06</td>\n",
       "      <td>359.0</td>\n",
       "      <td>362.666656</td>\n",
       "      <td>340.166656</td>\n",
       "      <td>354.899994</td>\n",
       "      <td>354.899994</td>\n",
       "      <td>90336600</td>\n",
       "      <td>negative</td>\n",
       "      <td>0</td>\n",
       "      <td>0</td>\n",
       "      <td>0.3750</td>\n",
       "      <td>-0.125000</td>\n",
       "      <td>-0.6597</td>\n",
       "      <td>0.227</td>\n",
       "      <td>0.773</td>\n",
       "      <td>0.000</td>\n",
       "    </tr>\n",
       "    <tr>\n",
       "      <th>1</th>\n",
       "      <td>entertainment.kannada.movies.news</td>\n",
       "      <td>Dhanveerrah's next film to take off this month</td>\n",
       "      <td>2022-01-06</td>\n",
       "      <td>359.0</td>\n",
       "      <td>362.666656</td>\n",
       "      <td>340.166656</td>\n",
       "      <td>354.899994</td>\n",
       "      <td>354.899994</td>\n",
       "      <td>90336600</td>\n",
       "      <td>neutral</td>\n",
       "      <td>1</td>\n",
       "      <td>0</td>\n",
       "      <td>0.0000</td>\n",
       "      <td>0.000000</td>\n",
       "      <td>0.0000</td>\n",
       "      <td>0.000</td>\n",
       "      <td>1.000</td>\n",
       "      <td>0.000</td>\n",
       "    </tr>\n",
       "    <tr>\n",
       "      <th>2</th>\n",
       "      <td>entertainment.kannada.movies.news</td>\n",
       "      <td>Ek Love Ya release date pushed due to curfew; ...</td>\n",
       "      <td>2022-01-06</td>\n",
       "      <td>359.0</td>\n",
       "      <td>362.666656</td>\n",
       "      <td>340.166656</td>\n",
       "      <td>354.899994</td>\n",
       "      <td>354.899994</td>\n",
       "      <td>90336600</td>\n",
       "      <td>positive</td>\n",
       "      <td>0</td>\n",
       "      <td>1</td>\n",
       "      <td>0.4875</td>\n",
       "      <td>0.187500</td>\n",
       "      <td>0.6369</td>\n",
       "      <td>0.000</td>\n",
       "      <td>0.704</td>\n",
       "      <td>0.296</td>\n",
       "    </tr>\n",
       "    <tr>\n",
       "      <th>3</th>\n",
       "      <td>entertainment.kannada.music</td>\n",
       "      <td>Vishwanath Haveri adds a touch of fusion to po...</td>\n",
       "      <td>2022-01-06</td>\n",
       "      <td>359.0</td>\n",
       "      <td>362.666656</td>\n",
       "      <td>340.166656</td>\n",
       "      <td>354.899994</td>\n",
       "      <td>354.899994</td>\n",
       "      <td>90336600</td>\n",
       "      <td>positive</td>\n",
       "      <td>0</td>\n",
       "      <td>1</td>\n",
       "      <td>0.5500</td>\n",
       "      <td>0.350000</td>\n",
       "      <td>0.4215</td>\n",
       "      <td>0.000</td>\n",
       "      <td>0.833</td>\n",
       "      <td>0.167</td>\n",
       "    </tr>\n",
       "    <tr>\n",
       "      <th>4</th>\n",
       "      <td>tv.news.kannada</td>\n",
       "      <td>I love the unpredictable nature of the televis...</td>\n",
       "      <td>2022-01-06</td>\n",
       "      <td>359.0</td>\n",
       "      <td>362.666656</td>\n",
       "      <td>340.166656</td>\n",
       "      <td>354.899994</td>\n",
       "      <td>354.899994</td>\n",
       "      <td>90336600</td>\n",
       "      <td>positive</td>\n",
       "      <td>0</td>\n",
       "      <td>1</td>\n",
       "      <td>0.8000</td>\n",
       "      <td>0.166667</td>\n",
       "      <td>0.6369</td>\n",
       "      <td>0.000</td>\n",
       "      <td>0.724</td>\n",
       "      <td>0.276</td>\n",
       "    </tr>\n",
       "  </tbody>\n",
       "</table>\n",
       "</div>"
      ],
      "text/plain": [
       "                   headline_category  \\\n",
       "0                astrology.horoscope   \n",
       "1  entertainment.kannada.movies.news   \n",
       "2  entertainment.kannada.movies.news   \n",
       "3        entertainment.kannada.music   \n",
       "4                    tv.news.kannada   \n",
       "\n",
       "                                       headline_text       Date   Open  \\\n",
       "0  Horoscope Today; 6 January 2022: Check astrolo... 2022-01-06  359.0   \n",
       "1     Dhanveerrah's next film to take off this month 2022-01-06  359.0   \n",
       "2  Ek Love Ya release date pushed due to curfew; ... 2022-01-06  359.0   \n",
       "3  Vishwanath Haveri adds a touch of fusion to po... 2022-01-06  359.0   \n",
       "4  I love the unpredictable nature of the televis... 2022-01-06  359.0   \n",
       "\n",
       "         High         Low       Close   Adj Close    Volume sentiment  \\\n",
       "0  362.666656  340.166656  354.899994  354.899994  90336600  negative   \n",
       "1  362.666656  340.166656  354.899994  354.899994  90336600   neutral   \n",
       "2  362.666656  340.166656  354.899994  354.899994  90336600  positive   \n",
       "3  362.666656  340.166656  354.899994  354.899994  90336600  positive   \n",
       "4  362.666656  340.166656  354.899994  354.899994  90336600  positive   \n",
       "\n",
       "   neutral  positive  Subjectivity  Polarity  Compound  Negative  Neutral  \\\n",
       "0        0         0        0.3750 -0.125000   -0.6597     0.227    0.773   \n",
       "1        1         0        0.0000  0.000000    0.0000     0.000    1.000   \n",
       "2        0         1        0.4875  0.187500    0.6369     0.000    0.704   \n",
       "3        0         1        0.5500  0.350000    0.4215     0.000    0.833   \n",
       "4        0         1        0.8000  0.166667    0.6369     0.000    0.724   \n",
       "\n",
       "   Positive  \n",
       "0     0.000  \n",
       "1     0.000  \n",
       "2     0.296  \n",
       "3     0.167  \n",
       "4     0.276  "
      ]
     },
     "execution_count": 47,
     "metadata": {},
     "output_type": "execute_result"
    }
   ],
   "source": [
    "senti_int_an = SentimentIntensityAnalyzer()\n",
    "stocks_news_data['Compound'] = [senti_int_an.polarity_scores(v)['compound'] for v in stocks_news_data['headline_text']]\n",
    "stocks_news_data['Negative'] = [senti_int_an.polarity_scores(v)['neg'] for v in stocks_news_data['headline_text']]\n",
    "stocks_news_data['Neutral'] = [senti_int_an.polarity_scores(v)['neu'] for v in stocks_news_data['headline_text']]\n",
    "stocks_news_data['Positive'] = [senti_int_an.polarity_scores(v)['pos'] for v in stocks_news_data['headline_text']]\n",
    "stocks_news_data.head()"
   ]
  },
  {
   "cell_type": "code",
   "execution_count": 48,
   "metadata": {},
   "outputs": [],
   "source": [
    "req_col = ['Open', 'High', 'Low', 'Volume', 'Compound', 'Negative', 'Neutral', 'Positive', 'positive']"
   ]
  },
  {
   "cell_type": "code",
   "execution_count": 49,
   "metadata": {},
   "outputs": [
    {
     "name": "stderr",
     "output_type": "stream",
     "text": [
      "C:\\Users\\Yogiraj\\AppData\\Roaming\\Python\\Python37\\site-packages\\pandas\\core\\frame.py:5047: SettingWithCopyWarning: \n",
      "A value is trying to be set on a copy of a slice from a DataFrame\n",
      "\n",
      "See the caveats in the documentation: https://pandas.pydata.org/pandas-docs/stable/user_guide/indexing.html#returning-a-view-versus-a-copy\n",
      "  errors=errors,\n"
     ]
    }
   ],
   "source": [
    "new_stocks = stocks_news_data[req_col]\n",
    "new_stocks.reset_index(inplace = True)\n",
    "new_stocks.rename(columns = {'positive':'Label'}, inplace = True)\n",
    "new_stocks = new_stocks.loc[:,~new_stocks.columns.duplicated()]"
   ]
  },
  {
   "cell_type": "code",
   "execution_count": 50,
   "metadata": {},
   "outputs": [
    {
     "data": {
      "text/html": [
       "<div>\n",
       "<style scoped>\n",
       "    .dataframe tbody tr th:only-of-type {\n",
       "        vertical-align: middle;\n",
       "    }\n",
       "\n",
       "    .dataframe tbody tr th {\n",
       "        vertical-align: top;\n",
       "    }\n",
       "\n",
       "    .dataframe thead th {\n",
       "        text-align: right;\n",
       "    }\n",
       "</style>\n",
       "<table border=\"1\" class=\"dataframe\">\n",
       "  <thead>\n",
       "    <tr style=\"text-align: right;\">\n",
       "      <th></th>\n",
       "      <th>index</th>\n",
       "      <th>Open</th>\n",
       "      <th>High</th>\n",
       "      <th>Low</th>\n",
       "      <th>Volume</th>\n",
       "      <th>Compound</th>\n",
       "      <th>Negative</th>\n",
       "      <th>Neutral</th>\n",
       "      <th>Positive</th>\n",
       "      <th>Label</th>\n",
       "    </tr>\n",
       "  </thead>\n",
       "  <tbody>\n",
       "    <tr>\n",
       "      <th>0</th>\n",
       "      <td>0</td>\n",
       "      <td>359.000000</td>\n",
       "      <td>362.666656</td>\n",
       "      <td>340.166656</td>\n",
       "      <td>90336600</td>\n",
       "      <td>-0.6597</td>\n",
       "      <td>0.227</td>\n",
       "      <td>0.773</td>\n",
       "      <td>0.000</td>\n",
       "      <td>0</td>\n",
       "    </tr>\n",
       "    <tr>\n",
       "      <th>1</th>\n",
       "      <td>1</td>\n",
       "      <td>359.000000</td>\n",
       "      <td>362.666656</td>\n",
       "      <td>340.166656</td>\n",
       "      <td>90336600</td>\n",
       "      <td>0.0000</td>\n",
       "      <td>0.000</td>\n",
       "      <td>1.000</td>\n",
       "      <td>0.000</td>\n",
       "      <td>0</td>\n",
       "    </tr>\n",
       "    <tr>\n",
       "      <th>2</th>\n",
       "      <td>2</td>\n",
       "      <td>359.000000</td>\n",
       "      <td>362.666656</td>\n",
       "      <td>340.166656</td>\n",
       "      <td>90336600</td>\n",
       "      <td>0.6369</td>\n",
       "      <td>0.000</td>\n",
       "      <td>0.704</td>\n",
       "      <td>0.296</td>\n",
       "      <td>1</td>\n",
       "    </tr>\n",
       "    <tr>\n",
       "      <th>3</th>\n",
       "      <td>3</td>\n",
       "      <td>359.000000</td>\n",
       "      <td>362.666656</td>\n",
       "      <td>340.166656</td>\n",
       "      <td>90336600</td>\n",
       "      <td>0.4215</td>\n",
       "      <td>0.000</td>\n",
       "      <td>0.833</td>\n",
       "      <td>0.167</td>\n",
       "      <td>1</td>\n",
       "    </tr>\n",
       "    <tr>\n",
       "      <th>4</th>\n",
       "      <td>4</td>\n",
       "      <td>359.000000</td>\n",
       "      <td>362.666656</td>\n",
       "      <td>340.166656</td>\n",
       "      <td>90336600</td>\n",
       "      <td>0.6369</td>\n",
       "      <td>0.000</td>\n",
       "      <td>0.724</td>\n",
       "      <td>0.276</td>\n",
       "      <td>1</td>\n",
       "    </tr>\n",
       "    <tr>\n",
       "      <th>...</th>\n",
       "      <td>...</td>\n",
       "      <td>...</td>\n",
       "      <td>...</td>\n",
       "      <td>...</td>\n",
       "      <td>...</td>\n",
       "      <td>...</td>\n",
       "      <td>...</td>\n",
       "      <td>...</td>\n",
       "      <td>...</td>\n",
       "      <td>...</td>\n",
       "    </tr>\n",
       "    <tr>\n",
       "      <th>29427</th>\n",
       "      <td>29427</td>\n",
       "      <td>364.856659</td>\n",
       "      <td>367.713318</td>\n",
       "      <td>358.880005</td>\n",
       "      <td>48992700</td>\n",
       "      <td>-0.5267</td>\n",
       "      <td>0.274</td>\n",
       "      <td>0.726</td>\n",
       "      <td>0.000</td>\n",
       "      <td>0</td>\n",
       "    </tr>\n",
       "    <tr>\n",
       "      <th>29428</th>\n",
       "      <td>29428</td>\n",
       "      <td>364.856659</td>\n",
       "      <td>367.713318</td>\n",
       "      <td>358.880005</td>\n",
       "      <td>48992700</td>\n",
       "      <td>0.5106</td>\n",
       "      <td>0.000</td>\n",
       "      <td>0.852</td>\n",
       "      <td>0.148</td>\n",
       "      <td>1</td>\n",
       "    </tr>\n",
       "    <tr>\n",
       "      <th>29429</th>\n",
       "      <td>29429</td>\n",
       "      <td>364.856659</td>\n",
       "      <td>367.713318</td>\n",
       "      <td>358.880005</td>\n",
       "      <td>48992700</td>\n",
       "      <td>-0.2732</td>\n",
       "      <td>0.116</td>\n",
       "      <td>0.884</td>\n",
       "      <td>0.000</td>\n",
       "      <td>0</td>\n",
       "    </tr>\n",
       "    <tr>\n",
       "      <th>29430</th>\n",
       "      <td>29430</td>\n",
       "      <td>364.856659</td>\n",
       "      <td>367.713318</td>\n",
       "      <td>358.880005</td>\n",
       "      <td>48992700</td>\n",
       "      <td>0.0000</td>\n",
       "      <td>0.000</td>\n",
       "      <td>1.000</td>\n",
       "      <td>0.000</td>\n",
       "      <td>1</td>\n",
       "    </tr>\n",
       "    <tr>\n",
       "      <th>29431</th>\n",
       "      <td>29431</td>\n",
       "      <td>364.856659</td>\n",
       "      <td>367.713318</td>\n",
       "      <td>358.880005</td>\n",
       "      <td>48992700</td>\n",
       "      <td>0.0000</td>\n",
       "      <td>0.000</td>\n",
       "      <td>1.000</td>\n",
       "      <td>0.000</td>\n",
       "      <td>1</td>\n",
       "    </tr>\n",
       "  </tbody>\n",
       "</table>\n",
       "<p>29432 rows × 10 columns</p>\n",
       "</div>"
      ],
      "text/plain": [
       "       index        Open        High         Low    Volume  Compound  \\\n",
       "0          0  359.000000  362.666656  340.166656  90336600   -0.6597   \n",
       "1          1  359.000000  362.666656  340.166656  90336600    0.0000   \n",
       "2          2  359.000000  362.666656  340.166656  90336600    0.6369   \n",
       "3          3  359.000000  362.666656  340.166656  90336600    0.4215   \n",
       "4          4  359.000000  362.666656  340.166656  90336600    0.6369   \n",
       "...      ...         ...         ...         ...       ...       ...   \n",
       "29427  29427  364.856659  367.713318  358.880005  48992700   -0.5267   \n",
       "29428  29428  364.856659  367.713318  358.880005  48992700    0.5106   \n",
       "29429  29429  364.856659  367.713318  358.880005  48992700   -0.2732   \n",
       "29430  29430  364.856659  367.713318  358.880005  48992700    0.0000   \n",
       "29431  29431  364.856659  367.713318  358.880005  48992700    0.0000   \n",
       "\n",
       "       Negative  Neutral  Positive  Label  \n",
       "0         0.227    0.773     0.000      0  \n",
       "1         0.000    1.000     0.000      0  \n",
       "2         0.000    0.704     0.296      1  \n",
       "3         0.000    0.833     0.167      1  \n",
       "4         0.000    0.724     0.276      1  \n",
       "...         ...      ...       ...    ...  \n",
       "29427     0.274    0.726     0.000      0  \n",
       "29428     0.000    0.852     0.148      1  \n",
       "29429     0.116    0.884     0.000      0  \n",
       "29430     0.000    1.000     0.000      1  \n",
       "29431     0.000    1.000     0.000      1  \n",
       "\n",
       "[29432 rows x 10 columns]"
      ]
     },
     "execution_count": 50,
     "metadata": {},
     "output_type": "execute_result"
    }
   ],
   "source": [
    "new_stocks"
   ]
  },
  {
   "attachments": {},
   "cell_type": "markdown",
   "metadata": {},
   "source": [
    "### Training and Testing the models for stock price"
   ]
  },
  {
   "cell_type": "code",
   "execution_count": 51,
   "metadata": {},
   "outputs": [],
   "source": [
    "from sklearn.model_selection import train_test_split"
   ]
  },
  {
   "cell_type": "code",
   "execution_count": 52,
   "metadata": {},
   "outputs": [],
   "source": [
    "X = new_stocks.drop('Label', axis=1)    \n",
    "y = new_stocks['Label']\n",
    "x_train, x_test, y_train, y_test = train_test_split(X, y, test_size=0.2, random_state = None)"
   ]
  },
  {
   "cell_type": "code",
   "execution_count": 53,
   "metadata": {},
   "outputs": [],
   "source": [
    "np.any(np.isnan(x_train))\n",
    "np.all(np.isfinite(x_train))\n",
    "x_train = x_train.fillna(x_train.mean())\n",
    "x_test = x_test.fillna(x_test.mean())"
   ]
  },
  {
   "cell_type": "code",
   "execution_count": 54,
   "metadata": {},
   "outputs": [],
   "source": [
    "from sklearn.linear_model import LogisticRegression"
   ]
  },
  {
   "cell_type": "code",
   "execution_count": 55,
   "metadata": {},
   "outputs": [],
   "source": [
    "model = LogisticRegression()"
   ]
  },
  {
   "cell_type": "code",
   "execution_count": 56,
   "metadata": {},
   "outputs": [],
   "source": [
    "from sklearn.metrics import accuracy_score"
   ]
  },
  {
   "cell_type": "code",
   "execution_count": 57,
   "metadata": {},
   "outputs": [
    {
     "data": {
      "text/plain": [
       "0.8075420417869883"
      ]
     },
     "execution_count": 57,
     "metadata": {},
     "output_type": "execute_result"
    }
   ],
   "source": [
    "model.fit(x_train,y_train)\n",
    "y_logit_pred = model.predict(x_test)\n",
    "accuracy_score(y_test,y_logit_pred)"
   ]
  },
  {
   "cell_type": "code",
   "execution_count": 58,
   "metadata": {},
   "outputs": [],
   "source": [
    "from sklearn.ensemble import RandomForestClassifier"
   ]
  },
  {
   "cell_type": "code",
   "execution_count": 59,
   "metadata": {},
   "outputs": [
    {
     "data": {
      "text/plain": [
       "RandomForestClassifier()"
      ]
     },
     "execution_count": 59,
     "metadata": {},
     "output_type": "execute_result"
    }
   ],
   "source": [
    "rf = RandomForestClassifier(n_estimators=100)\n",
    "rf.fit(x_train,y_train)"
   ]
  },
  {
   "cell_type": "code",
   "execution_count": 60,
   "metadata": {},
   "outputs": [],
   "source": [
    "y_rf_pred = rf.predict(x_test)"
   ]
  },
  {
   "cell_type": "code",
   "execution_count": 61,
   "metadata": {},
   "outputs": [
    {
     "data": {
      "text/plain": [
       "0.7795141837948021"
      ]
     },
     "execution_count": 61,
     "metadata": {},
     "output_type": "execute_result"
    }
   ],
   "source": [
    "accuracy_score(y_test,y_rf_pred)"
   ]
  },
  {
   "cell_type": "code",
   "execution_count": 62,
   "metadata": {},
   "outputs": [],
   "source": [
    "from sklearn.ensemble import AdaBoostClassifier"
   ]
  },
  {
   "cell_type": "code",
   "execution_count": 63,
   "metadata": {},
   "outputs": [
    {
     "data": {
      "text/plain": [
       "AdaBoostClassifier(n_estimators=100)"
      ]
     },
     "execution_count": 63,
     "metadata": {},
     "output_type": "execute_result"
    }
   ],
   "source": [
    "ada = AdaBoostClassifier(n_estimators=100)\n",
    "ada.fit(x_train,y_train)"
   ]
  },
  {
   "cell_type": "code",
   "execution_count": 64,
   "metadata": {},
   "outputs": [],
   "source": [
    "y_ada_pred = ada.predict(x_test)"
   ]
  },
  {
   "cell_type": "code",
   "execution_count": 65,
   "metadata": {},
   "outputs": [
    {
     "data": {
      "text/plain": [
       "0.8180737217598097"
      ]
     },
     "execution_count": 65,
     "metadata": {},
     "output_type": "execute_result"
    }
   ],
   "source": [
    "accuracy_score(y_test,y_ada_pred)"
   ]
  },
  {
   "cell_type": "code",
   "execution_count": 66,
   "metadata": {},
   "outputs": [],
   "source": [
    "from sklearn.ensemble import GradientBoostingClassifier"
   ]
  },
  {
   "cell_type": "code",
   "execution_count": 68,
   "metadata": {},
   "outputs": [
    {
     "data": {
      "text/plain": [
       "GradientBoostingClassifier()"
      ]
     },
     "execution_count": 68,
     "metadata": {},
     "output_type": "execute_result"
    }
   ],
   "source": [
    "grad = GradientBoostingClassifier(n_estimators=100)\n",
    "grad.fit(x_train,y_train)"
   ]
  },
  {
   "cell_type": "code",
   "execution_count": 69,
   "metadata": {},
   "outputs": [],
   "source": [
    "y_grad_pred = grad.predict(x_test)"
   ]
  },
  {
   "cell_type": "code",
   "execution_count": 70,
   "metadata": {},
   "outputs": [
    {
     "data": {
      "text/plain": [
       "0.822320366910141"
      ]
     },
     "execution_count": 70,
     "metadata": {},
     "output_type": "execute_result"
    }
   ],
   "source": [
    "accuracy_score(y_test,y_grad_pred)"
   ]
  },
  {
   "attachments": {},
   "cell_type": "markdown",
   "metadata": {},
   "source": [
    "Let us save the model obtained from gradient boosting classifier since it has the highest accuracy."
   ]
  },
  {
   "cell_type": "code",
   "execution_count": 72,
   "metadata": {},
   "outputs": [],
   "source": [
    "import pickle as pkl\n",
    "pkl.dump(grad, open('model.pkl', 'wb'))"
   ]
  }
 ],
 "metadata": {
  "kernelspec": {
   "display_name": "Python 3",
   "language": "python",
   "name": "python3"
  },
  "language_info": {
   "codemirror_mode": {
    "name": "ipython",
    "version": 3
   },
   "file_extension": ".py",
   "mimetype": "text/x-python",
   "name": "python",
   "nbconvert_exporter": "python",
   "pygments_lexer": "ipython3",
   "version": "3.7.9"
  },
  "orig_nbformat": 4,
  "vscode": {
   "interpreter": {
    "hash": "5109d816b82be14675a6b11f8e0f0d2e80f029176ed3710d54e125caa8520dfd"
   }
  }
 },
 "nbformat": 4,
 "nbformat_minor": 2
}
